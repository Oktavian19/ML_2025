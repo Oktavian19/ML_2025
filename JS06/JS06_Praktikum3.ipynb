{
 "cells": [
  {
   "cell_type": "code",
   "execution_count": 1,
   "id": "e216d8e9-2c90-443b-bef4-2271d6601756",
   "metadata": {},
   "outputs": [],
   "source": [
    "import hnswlib\n",
    "import numpy as np\n",
    "import pandas as pd\n",
    "import time\n",
    "from sklearn.neighbors import NearestNeighbors"
   ]
  },
  {
   "cell_type": "code",
   "execution_count": 2,
   "id": "6817413c-7286-4236-8920-9adbc00b954e",
   "metadata": {},
   "outputs": [],
   "source": [
    "# ===========================\n",
    "# 1. Buat data 2D acak\n",
    "# ===========================\n",
    "num_elements = 1000\n",
    "dim = 2\n",
    "data = np.random.random((num_elements, dim)).astype(np.float32)\n",
    "\n",
    "# Query point\n",
    "query = np.array([[0.5, 0.5]], dtype=np.float32)\n",
    "k = 5  # cari 5 tetangga terdekat"
   ]
  },
  {
   "cell_type": "code",
   "execution_count": 3,
   "id": "1b40b6f6-66c7-4a6e-a7b8-096586094858",
   "metadata": {},
   "outputs": [
    {
     "name": "stdout",
     "output_type": "stream",
     "text": [
      "=== Exact NN ===\n",
      "Indices: [[ 85 534 438 424 355]]\n",
      "Distances: [[0.01057618 0.01909875 0.02147917 0.02274323 0.02451442]]\n",
      "Waktu: 3.5419750213623047 detik\n"
     ]
    }
   ],
   "source": [
    "# ===========================\n",
    "# 2. Exact NN (Brute Force)\n",
    "# ===========================\n",
    "nn = NearestNeighbors(n_neighbors=k, algorithm='brute', metric='euclidean')\n",
    "nn.fit(data)\n",
    "\n",
    "start = time.time()\n",
    "distances, indices = nn.kneighbors(query)\n",
    "end = time.time()\n",
    "\n",
    "print(\"=== Exact NN ===\")\n",
    "print(\"Indices:\", indices)\n",
    "print(\"Distances:\", distances)\n",
    "print(\"Waktu:\", end - start, \"detik\")"
   ]
  },
  {
   "cell_type": "code",
   "execution_count": 4,
   "id": "f239b89b-b796-4565-8242-eb54022fad83",
   "metadata": {},
   "outputs": [
    {
     "name": "stdout",
     "output_type": "stream",
     "text": [
      "\n",
      "=== HNSW ===\n",
      "Indices: [[ 85 534 438 424 355]]\n",
      "Distances: [[0.00011186 0.00036476 0.00046135 0.00051725 0.00060096]]\n",
      "Waktu: 0.0 detik\n"
     ]
    }
   ],
   "source": [
    "# ===========================\n",
    "# 3. HNSW\n",
    "# ===========================\n",
    "# Inisialisasi index HNSW\n",
    "p = hnswlib.Index(space='l2', dim=dim)  \n",
    "\n",
    "# Ukuran maksimum elemen yang bisa ditampung\n",
    "p.init_index(max_elements=num_elements, ef_construction=100, M=16)\n",
    "\n",
    "# Tambahkan data\n",
    "p.add_items(data)\n",
    "\n",
    "# Set parameter pencarian\n",
    "p.set_ef(50)   # tradeoff speed vs accuracy\n",
    "\n",
    "start = time.time()\n",
    "labels, distances = p.knn_query(query, k=k)\n",
    "end = time.time()\n",
    "\n",
    "print(\"\\n=== HNSW ===\")\n",
    "print(\"Indices:\", labels)\n",
    "print(\"Distances:\", distances)\n",
    "print(\"Waktu:\", end - start, \"detik\")"
   ]
  },
  {
   "cell_type": "markdown",
   "id": "953aa438-6f6f-454e-82d1-29327d65f13a",
   "metadata": {},
   "source": [
    "## Percobaan Metric Distance Berbeda"
   ]
  },
  {
   "cell_type": "code",
   "execution_count": 5,
   "id": "afc2415e-ce48-4744-ab03-074468082359",
   "metadata": {},
   "outputs": [],
   "source": [
    "num_elements = [1000, 1000000]\n",
    "dimensions = [2, 5]\n",
    "\n",
    "results = []\n",
    "\n",
    "for num_element in num_elements:\n",
    "    for dim in dimensions:\n",
    "        # ===========================\n",
    "        # 1. Buat data 2D acak\n",
    "        # ===========================\n",
    "        data = np.random.random((num_element, dim)).astype(np.float32)\n",
    "        \n",
    "        # Query point\n",
    "        query = np.random.rand(1, dim).astype('float32')\n",
    "        k = 5  # cari 5 tetangga terdekat\n",
    "        \n",
    "        # ===========================\n",
    "        # 2. Exact NN (Brute Force)\n",
    "        # ===========================\n",
    "        nn = NearestNeighbors(n_neighbors=k, algorithm='brute', metric='euclidean')\n",
    "        nn.fit(data)\n",
    "        \n",
    "        start = time.time()\n",
    "        nn_distances, nn_indices = nn.kneighbors(query)\n",
    "        end = time.time()\n",
    "        nn_time = end - start\n",
    "        \n",
    "        # ===========================\n",
    "        # 3. HNSW\n",
    "        # ===========================\n",
    "        # Inisialisasi index HNSW\n",
    "        p = hnswlib.Index(space='l2', dim=dim)  \n",
    "        \n",
    "        # Ukuran maksimum elemen yang bisa ditampung\n",
    "        p.init_index(max_elements=num_element, ef_construction=100, M=16)\n",
    "        \n",
    "        # Tambahkan data\n",
    "        p.add_items(data)\n",
    "        \n",
    "        # Set parameter pencarian\n",
    "        p.set_ef(50)   # tradeoff speed vs accuracy\n",
    "        \n",
    "        start = time.time()\n",
    "        hnsw_labels, hnsw_distances = p.knn_query(query, k=k)\n",
    "        end = time.time()\n",
    "        hnsw_time = end - start\n",
    "    \n",
    "        # --- Simpan hasil ke list ---\n",
    "        results.append({\n",
    "            \"Metric\": 'Exact NN',\n",
    "            \"Jumlah data\": f\"{num_element:,}\",\n",
    "            \"Dimensi\": dim,\n",
    "            \"Indices\": nn_indices,\n",
    "            \"Distances\": nn_distances,\n",
    "            \"Waktu\": nn_time,\n",
    "        })\n",
    "\n",
    "        results.append({\n",
    "            \"Metric\": 'HNSW',\n",
    "            \"Jumlah data\": f\"{num_element:,}\",\n",
    "            \"Dimensi\": dim,\n",
    "            \"Indices\": hnsw_labels,\n",
    "            \"Distances\": hnsw_distances,\n",
    "            \"Waktu\": hnsw_time,\n",
    "        })\n",
    "\n",
    "# --- Convert ke DataFrame ---\n",
    "df = pd.DataFrame(results)"
   ]
  },
  {
   "cell_type": "code",
   "execution_count": 6,
   "id": "08fc23b7-2151-4fb3-abd9-dde753b49c91",
   "metadata": {},
   "outputs": [
    {
     "name": "stdout",
     "output_type": "stream",
     "text": [
      "  Metric Jumlah data  Dimensi                                   Indices                                                                                                           Distances    Waktu\n",
      "Exact NN       1,000        2               [[332, 290, 178, 217, 656]]       [[0.009308825246989727, 0.015814058482646942, 0.02120141126215458, 0.02167128585278988, 0.03912459686398506]] 0.003524\n",
      "    HNSW       1,000        2               [[332, 290, 178, 217, 656]]                                        [[8.6654225e-05, 0.00025008447, 0.00044949987, 0.00046964464, 0.0015307341]] 0.000000\n",
      "Exact NN       1,000        5               [[752, 744, 339, 503, 559]]          [[0.18438217043876648, 0.21670539677143097, 0.24761362373828888, 0.2604896128177643, 0.26508262753486633]] 0.001521\n",
      "    HNSW       1,000        5               [[752, 744, 339, 503, 559]]                                                   [[0.033996783, 0.04696123, 0.061312508, 0.06785484, 0.070268795]] 0.000000\n",
      "Exact NN   1,000,000        2 [[11151, 328298, 989869, 433501, 716389]] [[0.0003268977452535182, 0.0007722844602540135, 0.000784182280767709, 0.0008439241792075336, 0.000864251225721091]] 0.033615\n",
      "    HNSW   1,000,000        2 [[11151, 328298, 989869, 433501, 716389]]                                         [[1.0686213e-07, 5.964233e-07, 6.149419e-07, 7.1220796e-07, 7.4693014e-07]] 0.000000\n",
      "Exact NN   1,000,000        5 [[672132, 194242, 345819, 200768, 34834]]         [[0.04984636232256889, 0.05776302143931389, 0.058591049164533615, 0.06072745472192764, 0.0651029497385025]] 0.023517\n",
      "    HNSW   1,000,000        5 [[672132, 194242, 345819, 200768, 34834]]                                              [[0.0024846601, 0.0033365665, 0.003432911, 0.003687824, 0.0042383936]] 0.000000\n"
     ]
    }
   ],
   "source": [
    "# --- Tampilkan tabel rapi ---\n",
    "print(df.to_string(index=False))"
   ]
  }
 ],
 "metadata": {
  "kernelspec": {
   "display_name": "Python 3 (ipykernel)",
   "language": "python",
   "name": "python3"
  },
  "language_info": {
   "codemirror_mode": {
    "name": "ipython",
    "version": 3
   },
   "file_extension": ".py",
   "mimetype": "text/x-python",
   "name": "python",
   "nbconvert_exporter": "python",
   "pygments_lexer": "ipython3",
   "version": "3.12.2"
  }
 },
 "nbformat": 4,
 "nbformat_minor": 5
}
