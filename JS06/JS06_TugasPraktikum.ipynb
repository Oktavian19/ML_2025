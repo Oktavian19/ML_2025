{
 "cells": [
  {
   "cell_type": "code",
   "execution_count": 1,
   "id": "20e67b93-e768-4670-9a73-58810ee46724",
   "metadata": {},
   "outputs": [],
   "source": [
    "import numpy as np\n",
    "import time\n",
    "from sklearn.neighbors import NearestNeighbors\n",
    "from annoy import AnnoyIndex\n",
    "import hnswlib\n",
    "import faiss\n",
    "from sklearn.preprocessing import StandardScaler"
   ]
  },
  {
   "cell_type": "code",
   "execution_count": 2,
   "id": "23ba416c-6f73-4e64-a82b-04e0aaf7c1f1",
   "metadata": {},
   "outputs": [],
   "source": [
    "# -------------------------------\n",
    "# Contoh dataset kecil untuk testing\n",
    "# -------------------------------\n",
    "np.random.seed(42)\n",
    "n_samples = 10000   # jumlah database vector\n",
    "d = 128             # dimensi\n",
    "X = np.random.random((n_samples, d)).astype('float32')\n",
    "\n",
    "# Standarisasi fitur\n",
    "scaler = StandardScaler()\n",
    "X_scaled = scaler.fit_transform(X)\n",
    "\n",
    "k = 10  # jumlah nearest neighbors"
   ]
  },
  {
   "cell_type": "code",
   "execution_count": 3,
   "id": "997b5e32-139c-4d5b-818c-19365ee0e6ad",
   "metadata": {},
   "outputs": [
    {
     "name": "stdout",
     "output_type": "stream",
     "text": [
      "Exact NN done in 3.279 s\n"
     ]
    }
   ],
   "source": [
    "# -------------------------------\n",
    "# Exact NN (brute-force)\n",
    "# -------------------------------\n",
    "start = time.time()\n",
    "nn = NearestNeighbors(n_neighbors=k, algorithm='brute', metric='euclidean')\n",
    "nn.fit(X_scaled)\n",
    "dist_exact, idx_exact = nn.kneighbors(X_scaled)\n",
    "time_exact = time.time() - start\n",
    "print(f\"Exact NN done in {time_exact:.3f} s\")"
   ]
  },
  {
   "cell_type": "code",
   "execution_count": 4,
   "id": "4ede68cf-b6b6-4769-91b6-1c07dd2efcc8",
   "metadata": {},
   "outputs": [
    {
     "name": "stdout",
     "output_type": "stream",
     "text": [
      "Annoy done in 0.978 s\n"
     ]
    }
   ],
   "source": [
    "# -------------------------------\n",
    "# Annoy\n",
    "# -------------------------------\n",
    "start = time.time()\n",
    "f = X_scaled.shape[1]\n",
    "index_annoy = AnnoyIndex(f, 'euclidean')\n",
    "for i, v in enumerate(X_scaled):\n",
    "    index_annoy.add_item(i, v)\n",
    "index_annoy.build(10)\n",
    "idx_annoy = [index_annoy.get_nns_by_vector(v, k) for v in X_scaled]\n",
    "time_annoy = time.time() - start\n",
    "print(f\"Annoy done in {time_annoy:.3f} s\")"
   ]
  },
  {
   "cell_type": "code",
   "execution_count": 5,
   "id": "d69670b6-2e41-4698-aefe-f01cf0508e0d",
   "metadata": {},
   "outputs": [
    {
     "name": "stdout",
     "output_type": "stream",
     "text": [
      "HNSW done in 5.793 s\n"
     ]
    }
   ],
   "source": [
    "# -------------------------------\n",
    "# HNSW\n",
    "# -------------------------------\n",
    "start = time.time()\n",
    "p_hnsw = hnswlib.Index(space='l2', dim=d)\n",
    "p_hnsw.init_index(max_elements=n_samples, ef_construction=200, M=16)\n",
    "p_hnsw.add_items(X_scaled)\n",
    "p_hnsw.set_ef(200)\n",
    "idx_hnsw, _ = p_hnsw.knn_query(X_scaled, k=k)\n",
    "time_hnsw = time.time() - start\n",
    "print(f\"HNSW done in {time_hnsw:.3f} s\")"
   ]
  },
  {
   "cell_type": "code",
   "execution_count": 7,
   "id": "629b73e4-0312-4d50-8b8f-52bbc7067b69",
   "metadata": {},
   "outputs": [
    {
     "name": "stdout",
     "output_type": "stream",
     "text": [
      "FAISS IVF done in 0.372 s\n"
     ]
    }
   ],
   "source": [
    "# -------------------------------\n",
    "# FAISS IVF\n",
    "# -------------------------------\n",
    "start = time.time()\n",
    "quantizer = faiss.IndexFlatL2(d)\n",
    "index_faiss = faiss.IndexIVFFlat(quantizer, d, 100, faiss.METRIC_L2)\n",
    "index_faiss.train(X_scaled)\n",
    "index_faiss.add(X_scaled)\n",
    "index_faiss.nprobe = 10\n",
    "_, idx_faiss = index_faiss.search(X_scaled, k)\n",
    "time_faiss = time.time() - start\n",
    "print(f\"FAISS IVF done in {time_faiss:.3f} s\")"
   ]
  },
  {
   "cell_type": "code",
   "execution_count": 8,
   "id": "f7ba9d7c-00b6-4a2c-a31b-e9c1eb07f159",
   "metadata": {},
   "outputs": [
    {
     "name": "stdout",
     "output_type": "stream",
     "text": [
      "\n",
      "=== Ringkasan Waktu (detik) ===\n",
      "Exact NN : 3.279\n",
      "Annoy    : 0.978\n",
      "HNSW     : 5.793\n",
      "FAISS    : 0.372\n"
     ]
    }
   ],
   "source": [
    "# -------------------------------\n",
    "# Tampilkan ringkasan waktu\n",
    "# -------------------------------\n",
    "print(\"\\n=== Ringkasan Waktu (detik) ===\")\n",
    "print(f\"Exact NN : {time_exact:.3f}\")\n",
    "print(f\"Annoy    : {time_annoy:.3f}\")\n",
    "print(f\"HNSW     : {time_hnsw:.3f}\")\n",
    "print(f\"FAISS    : {time_faiss:.3f}\")"
   ]
  }
 ],
 "metadata": {
  "kernelspec": {
   "display_name": "Python 3 (ipykernel)",
   "language": "python",
   "name": "python3"
  },
  "language_info": {
   "codemirror_mode": {
    "name": "ipython",
    "version": 3
   },
   "file_extension": ".py",
   "mimetype": "text/x-python",
   "name": "python",
   "nbconvert_exporter": "python",
   "pygments_lexer": "ipython3",
   "version": "3.12.2"
  }
 },
 "nbformat": 4,
 "nbformat_minor": 5
}
