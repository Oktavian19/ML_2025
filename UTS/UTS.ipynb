{
 "cells": [
  {
   "cell_type": "markdown",
   "id": "953ce2f8",
   "metadata": {
    "papermill": {
     "duration": 0.010203,
     "end_time": "2025-10-19T11:13:29.189624",
     "exception": false,
     "start_time": "2025-10-19T11:13:29.179421",
     "status": "completed"
    },
    "tags": []
   },
   "source": [
    "# UTS MACHINE LEARNING\n",
    "\n",
    "Deskripsi Umum:\n",
    "\n",
    "Tugas kali ini adalah mengerjakan studi kasus analisis data dan clustering menggunakan unsupervised learning dengan langkah-langkah sebagai berikut: \n",
    "\n",
    "1. Preprocessing data\n",
    "- Tangani missing values (imputasi mean/median/modus sesuai jenis data) \n",
    "- Normalisasi atau standarisasi data \n",
    "- Buat minimal satu fitur baru hasil kombinasi fitur lama \n",
    "2. Clustering \n",
    "- Terapkan K-Means dan DBSCAN \n",
    "- Bandingkan hasil clustering menggunakan: \n",
    "    - Silhouette Score \n",
    "    - Davies–Bouldin Index \n",
    "3. Approximate Nearest Neighbor (ANN) \n",
    "- Gunakan Annoy untuk mencari tetangga terdekat dari beberapa query points hasil clustering \n",
    "- Tampilkan output berupa: \n",
    "    - Index query point \n",
    "    - Daftar tetangga terdekat yang ditemukan \n",
    "    - Nilai jarak kemiripan"
   ]
  },
  {
   "cell_type": "code",
   "execution_count": 1,
   "id": "759674fb",
   "metadata": {
    "_cell_guid": "b1076dfc-b9ad-4769-8c92-a6c4dae69d19",
    "_uuid": "8f2839f25d086af736a60e9eeb907d3b93b6e0e5",
    "execution": {
     "iopub.execute_input": "2025-10-19T11:13:29.208795Z",
     "iopub.status.busy": "2025-10-19T11:13:29.207902Z",
     "iopub.status.idle": "2025-10-19T11:13:33.689047Z",
     "shell.execute_reply": "2025-10-19T11:13:33.688113Z"
    },
    "papermill": {
     "duration": 4.492352,
     "end_time": "2025-10-19T11:13:33.690759",
     "exception": false,
     "start_time": "2025-10-19T11:13:29.198407",
     "status": "completed"
    },
    "tags": []
   },
   "outputs": [],
   "source": [
    "# import libraries\n",
    "import os\n",
    "import warnings\n",
    "from pathlib import Path\n",
    "\n",
    "import pandas as pd \n",
    "import numpy as np \n",
    "from sklearn.preprocessing import StandardScaler \n",
    "from sklearn.cluster import KMeans, DBSCAN \n",
    "from sklearn.decomposition import PCA \n",
    "from sklearn.metrics import silhouette_score, davies_bouldin_score \n",
    "from annoy import AnnoyIndex \n",
    "import matplotlib.pyplot as plt \n",
    "import seaborn as sns \n",
    "from openpyxl import load_workbook"
   ]
  },
  {
   "cell_type": "markdown",
   "id": "30542b78",
   "metadata": {
    "papermill": {
     "duration": 0.008328,
     "end_time": "2025-10-19T11:13:33.708150",
     "exception": false,
     "start_time": "2025-10-19T11:13:33.699822",
     "status": "completed"
    },
    "tags": []
   },
   "source": [
    "#  Load Data"
   ]
  },
  {
   "cell_type": "markdown",
   "id": "425e1635",
   "metadata": {
    "papermill": {
     "duration": 0.008208,
     "end_time": "2025-10-19T11:13:33.724774",
     "exception": false,
     "start_time": "2025-10-19T11:13:33.716566",
     "status": "completed"
    },
    "tags": []
   },
   "source": [
    "Awali dengan melakukan load data dari csv yang disediakan menjadi sebuah dataframe yang dapat diproses"
   ]
  },
  {
   "cell_type": "code",
   "execution_count": 2,
   "id": "1d741739",
   "metadata": {
    "execution": {
     "iopub.execute_input": "2025-10-19T11:13:33.743303Z",
     "iopub.status.busy": "2025-10-19T11:13:33.742785Z",
     "iopub.status.idle": "2025-10-19T11:13:33.798802Z",
     "shell.execute_reply": "2025-10-19T11:13:33.798064Z"
    },
    "papermill": {
     "duration": 0.067155,
     "end_time": "2025-10-19T11:13:33.800356",
     "exception": false,
     "start_time": "2025-10-19T11:13:33.733201",
     "status": "completed"
    },
    "tags": []
   },
   "outputs": [],
   "source": [
    "data_dir = Path(\"../input/house-prices-advanced-regression-techniques/\")\n",
    "df = pd.read_csv(data_dir / \"train.csv\", index_col=\"Id\")"
   ]
  },
  {
   "cell_type": "markdown",
   "id": "74df58b8",
   "metadata": {
    "papermill": {
     "duration": 0.008285,
     "end_time": "2025-10-19T11:13:33.817643",
     "exception": false,
     "start_time": "2025-10-19T11:13:33.809358",
     "status": "completed"
    },
    "tags": []
   },
   "source": [
    "Setelah dimuat, lakukan pemeriksaan awal pada dataset untuk mengetahui:\n",
    "- Jumlah baris\n",
    "- Jumlah fitur (kolom)\n",
    "- Tipe data fitur\n",
    "\n",
    "Pada dataset yang digunakan, diketahui terdapat 1460 sampel dan 80 fitur dengan bermacam tipe data."
   ]
  },
  {
   "cell_type": "code",
   "execution_count": 3,
   "id": "d08baceb",
   "metadata": {
    "_kg_hide-input": true,
    "execution": {
     "iopub.execute_input": "2025-10-19T11:13:33.835724Z",
     "iopub.status.busy": "2025-10-19T11:13:33.835393Z",
     "iopub.status.idle": "2025-10-19T11:13:33.857507Z",
     "shell.execute_reply": "2025-10-19T11:13:33.856489Z"
    },
    "papermill": {
     "duration": 0.033115,
     "end_time": "2025-10-19T11:13:33.859199",
     "exception": false,
     "start_time": "2025-10-19T11:13:33.826084",
     "status": "completed"
    },
    "tags": []
   },
   "outputs": [
    {
     "name": "stdout",
     "output_type": "stream",
     "text": [
      "<class 'pandas.core.frame.DataFrame'>\n",
      "Index: 1460 entries, 1 to 1460\n",
      "Data columns (total 80 columns):\n",
      " #   Column         Non-Null Count  Dtype  \n",
      "---  ------         --------------  -----  \n",
      " 0   MSSubClass     1460 non-null   int64  \n",
      " 1   MSZoning       1460 non-null   object \n",
      " 2   LotFrontage    1201 non-null   float64\n",
      " 3   LotArea        1460 non-null   int64  \n",
      " 4   Street         1460 non-null   object \n",
      " 5   Alley          91 non-null     object \n",
      " 6   LotShape       1460 non-null   object \n",
      " 7   LandContour    1460 non-null   object \n",
      " 8   Utilities      1460 non-null   object \n",
      " 9   LotConfig      1460 non-null   object \n",
      " 10  LandSlope      1460 non-null   object \n",
      " 11  Neighborhood   1460 non-null   object \n",
      " 12  Condition1     1460 non-null   object \n",
      " 13  Condition2     1460 non-null   object \n",
      " 14  BldgType       1460 non-null   object \n",
      " 15  HouseStyle     1460 non-null   object \n",
      " 16  OverallQual    1460 non-null   int64  \n",
      " 17  OverallCond    1460 non-null   int64  \n",
      " 18  YearBuilt      1460 non-null   int64  \n",
      " 19  YearRemodAdd   1460 non-null   int64  \n",
      " 20  RoofStyle      1460 non-null   object \n",
      " 21  RoofMatl       1460 non-null   object \n",
      " 22  Exterior1st    1460 non-null   object \n",
      " 23  Exterior2nd    1460 non-null   object \n",
      " 24  MasVnrType     588 non-null    object \n",
      " 25  MasVnrArea     1452 non-null   float64\n",
      " 26  ExterQual      1460 non-null   object \n",
      " 27  ExterCond      1460 non-null   object \n",
      " 28  Foundation     1460 non-null   object \n",
      " 29  BsmtQual       1423 non-null   object \n",
      " 30  BsmtCond       1423 non-null   object \n",
      " 31  BsmtExposure   1422 non-null   object \n",
      " 32  BsmtFinType1   1423 non-null   object \n",
      " 33  BsmtFinSF1     1460 non-null   int64  \n",
      " 34  BsmtFinType2   1422 non-null   object \n",
      " 35  BsmtFinSF2     1460 non-null   int64  \n",
      " 36  BsmtUnfSF      1460 non-null   int64  \n",
      " 37  TotalBsmtSF    1460 non-null   int64  \n",
      " 38  Heating        1460 non-null   object \n",
      " 39  HeatingQC      1460 non-null   object \n",
      " 40  CentralAir     1460 non-null   object \n",
      " 41  Electrical     1459 non-null   object \n",
      " 42  1stFlrSF       1460 non-null   int64  \n",
      " 43  2ndFlrSF       1460 non-null   int64  \n",
      " 44  LowQualFinSF   1460 non-null   int64  \n",
      " 45  GrLivArea      1460 non-null   int64  \n",
      " 46  BsmtFullBath   1460 non-null   int64  \n",
      " 47  BsmtHalfBath   1460 non-null   int64  \n",
      " 48  FullBath       1460 non-null   int64  \n",
      " 49  HalfBath       1460 non-null   int64  \n",
      " 50  BedroomAbvGr   1460 non-null   int64  \n",
      " 51  KitchenAbvGr   1460 non-null   int64  \n",
      " 52  KitchenQual    1460 non-null   object \n",
      " 53  TotRmsAbvGrd   1460 non-null   int64  \n",
      " 54  Functional     1460 non-null   object \n",
      " 55  Fireplaces     1460 non-null   int64  \n",
      " 56  FireplaceQu    770 non-null    object \n",
      " 57  GarageType     1379 non-null   object \n",
      " 58  GarageYrBlt    1379 non-null   float64\n",
      " 59  GarageFinish   1379 non-null   object \n",
      " 60  GarageCars     1460 non-null   int64  \n",
      " 61  GarageArea     1460 non-null   int64  \n",
      " 62  GarageQual     1379 non-null   object \n",
      " 63  GarageCond     1379 non-null   object \n",
      " 64  PavedDrive     1460 non-null   object \n",
      " 65  WoodDeckSF     1460 non-null   int64  \n",
      " 66  OpenPorchSF    1460 non-null   int64  \n",
      " 67  EnclosedPorch  1460 non-null   int64  \n",
      " 68  3SsnPorch      1460 non-null   int64  \n",
      " 69  ScreenPorch    1460 non-null   int64  \n",
      " 70  PoolArea       1460 non-null   int64  \n",
      " 71  PoolQC         7 non-null      object \n",
      " 72  Fence          281 non-null    object \n",
      " 73  MiscFeature    54 non-null     object \n",
      " 74  MiscVal        1460 non-null   int64  \n",
      " 75  MoSold         1460 non-null   int64  \n",
      " 76  YrSold         1460 non-null   int64  \n",
      " 77  SaleType       1460 non-null   object \n",
      " 78  SaleCondition  1460 non-null   object \n",
      " 79  SalePrice      1460 non-null   int64  \n",
      "dtypes: float64(3), int64(34), object(43)\n",
      "memory usage: 923.9+ KB\n"
     ]
    }
   ],
   "source": [
    "df.info()"
   ]
  },
  {
   "cell_type": "code",
   "execution_count": 4,
   "id": "5216f3d0",
   "metadata": {
    "_kg_hide-input": true,
    "execution": {
     "iopub.execute_input": "2025-10-19T11:13:33.878191Z",
     "iopub.status.busy": "2025-10-19T11:13:33.877494Z",
     "iopub.status.idle": "2025-10-19T11:13:33.969564Z",
     "shell.execute_reply": "2025-10-19T11:13:33.968517Z"
    },
    "papermill": {
     "duration": 0.103085,
     "end_time": "2025-10-19T11:13:33.971070",
     "exception": false,
     "start_time": "2025-10-19T11:13:33.867985",
     "status": "completed"
    },
    "tags": []
   },
   "outputs": [
    {
     "data": {
      "text/html": [
       "<div>\n",
       "<style scoped>\n",
       "    .dataframe tbody tr th:only-of-type {\n",
       "        vertical-align: middle;\n",
       "    }\n",
       "\n",
       "    .dataframe tbody tr th {\n",
       "        vertical-align: top;\n",
       "    }\n",
       "\n",
       "    .dataframe thead th {\n",
       "        text-align: right;\n",
       "    }\n",
       "</style>\n",
       "<table border=\"1\" class=\"dataframe\">\n",
       "  <thead>\n",
       "    <tr style=\"text-align: right;\">\n",
       "      <th></th>\n",
       "      <th>MSSubClass</th>\n",
       "      <th>LotFrontage</th>\n",
       "      <th>LotArea</th>\n",
       "      <th>OverallQual</th>\n",
       "      <th>OverallCond</th>\n",
       "      <th>YearBuilt</th>\n",
       "      <th>YearRemodAdd</th>\n",
       "      <th>MasVnrArea</th>\n",
       "      <th>BsmtFinSF1</th>\n",
       "      <th>BsmtFinSF2</th>\n",
       "      <th>...</th>\n",
       "      <th>WoodDeckSF</th>\n",
       "      <th>OpenPorchSF</th>\n",
       "      <th>EnclosedPorch</th>\n",
       "      <th>3SsnPorch</th>\n",
       "      <th>ScreenPorch</th>\n",
       "      <th>PoolArea</th>\n",
       "      <th>MiscVal</th>\n",
       "      <th>MoSold</th>\n",
       "      <th>YrSold</th>\n",
       "      <th>SalePrice</th>\n",
       "    </tr>\n",
       "  </thead>\n",
       "  <tbody>\n",
       "    <tr>\n",
       "      <th>count</th>\n",
       "      <td>1460.000000</td>\n",
       "      <td>1201.000000</td>\n",
       "      <td>1460.000000</td>\n",
       "      <td>1460.000000</td>\n",
       "      <td>1460.000000</td>\n",
       "      <td>1460.000000</td>\n",
       "      <td>1460.000000</td>\n",
       "      <td>1452.000000</td>\n",
       "      <td>1460.000000</td>\n",
       "      <td>1460.000000</td>\n",
       "      <td>...</td>\n",
       "      <td>1460.000000</td>\n",
       "      <td>1460.000000</td>\n",
       "      <td>1460.000000</td>\n",
       "      <td>1460.000000</td>\n",
       "      <td>1460.000000</td>\n",
       "      <td>1460.000000</td>\n",
       "      <td>1460.000000</td>\n",
       "      <td>1460.000000</td>\n",
       "      <td>1460.000000</td>\n",
       "      <td>1460.000000</td>\n",
       "    </tr>\n",
       "    <tr>\n",
       "      <th>mean</th>\n",
       "      <td>56.897260</td>\n",
       "      <td>70.049958</td>\n",
       "      <td>10516.828082</td>\n",
       "      <td>6.099315</td>\n",
       "      <td>5.575342</td>\n",
       "      <td>1971.267808</td>\n",
       "      <td>1984.865753</td>\n",
       "      <td>103.685262</td>\n",
       "      <td>443.639726</td>\n",
       "      <td>46.549315</td>\n",
       "      <td>...</td>\n",
       "      <td>94.244521</td>\n",
       "      <td>46.660274</td>\n",
       "      <td>21.954110</td>\n",
       "      <td>3.409589</td>\n",
       "      <td>15.060959</td>\n",
       "      <td>2.758904</td>\n",
       "      <td>43.489041</td>\n",
       "      <td>6.321918</td>\n",
       "      <td>2007.815753</td>\n",
       "      <td>180921.195890</td>\n",
       "    </tr>\n",
       "    <tr>\n",
       "      <th>std</th>\n",
       "      <td>42.300571</td>\n",
       "      <td>24.284752</td>\n",
       "      <td>9981.264932</td>\n",
       "      <td>1.382997</td>\n",
       "      <td>1.112799</td>\n",
       "      <td>30.202904</td>\n",
       "      <td>20.645407</td>\n",
       "      <td>181.066207</td>\n",
       "      <td>456.098091</td>\n",
       "      <td>161.319273</td>\n",
       "      <td>...</td>\n",
       "      <td>125.338794</td>\n",
       "      <td>66.256028</td>\n",
       "      <td>61.119149</td>\n",
       "      <td>29.317331</td>\n",
       "      <td>55.757415</td>\n",
       "      <td>40.177307</td>\n",
       "      <td>496.123024</td>\n",
       "      <td>2.703626</td>\n",
       "      <td>1.328095</td>\n",
       "      <td>79442.502883</td>\n",
       "    </tr>\n",
       "    <tr>\n",
       "      <th>min</th>\n",
       "      <td>20.000000</td>\n",
       "      <td>21.000000</td>\n",
       "      <td>1300.000000</td>\n",
       "      <td>1.000000</td>\n",
       "      <td>1.000000</td>\n",
       "      <td>1872.000000</td>\n",
       "      <td>1950.000000</td>\n",
       "      <td>0.000000</td>\n",
       "      <td>0.000000</td>\n",
       "      <td>0.000000</td>\n",
       "      <td>...</td>\n",
       "      <td>0.000000</td>\n",
       "      <td>0.000000</td>\n",
       "      <td>0.000000</td>\n",
       "      <td>0.000000</td>\n",
       "      <td>0.000000</td>\n",
       "      <td>0.000000</td>\n",
       "      <td>0.000000</td>\n",
       "      <td>1.000000</td>\n",
       "      <td>2006.000000</td>\n",
       "      <td>34900.000000</td>\n",
       "    </tr>\n",
       "    <tr>\n",
       "      <th>25%</th>\n",
       "      <td>20.000000</td>\n",
       "      <td>59.000000</td>\n",
       "      <td>7553.500000</td>\n",
       "      <td>5.000000</td>\n",
       "      <td>5.000000</td>\n",
       "      <td>1954.000000</td>\n",
       "      <td>1967.000000</td>\n",
       "      <td>0.000000</td>\n",
       "      <td>0.000000</td>\n",
       "      <td>0.000000</td>\n",
       "      <td>...</td>\n",
       "      <td>0.000000</td>\n",
       "      <td>0.000000</td>\n",
       "      <td>0.000000</td>\n",
       "      <td>0.000000</td>\n",
       "      <td>0.000000</td>\n",
       "      <td>0.000000</td>\n",
       "      <td>0.000000</td>\n",
       "      <td>5.000000</td>\n",
       "      <td>2007.000000</td>\n",
       "      <td>129975.000000</td>\n",
       "    </tr>\n",
       "    <tr>\n",
       "      <th>50%</th>\n",
       "      <td>50.000000</td>\n",
       "      <td>69.000000</td>\n",
       "      <td>9478.500000</td>\n",
       "      <td>6.000000</td>\n",
       "      <td>5.000000</td>\n",
       "      <td>1973.000000</td>\n",
       "      <td>1994.000000</td>\n",
       "      <td>0.000000</td>\n",
       "      <td>383.500000</td>\n",
       "      <td>0.000000</td>\n",
       "      <td>...</td>\n",
       "      <td>0.000000</td>\n",
       "      <td>25.000000</td>\n",
       "      <td>0.000000</td>\n",
       "      <td>0.000000</td>\n",
       "      <td>0.000000</td>\n",
       "      <td>0.000000</td>\n",
       "      <td>0.000000</td>\n",
       "      <td>6.000000</td>\n",
       "      <td>2008.000000</td>\n",
       "      <td>163000.000000</td>\n",
       "    </tr>\n",
       "    <tr>\n",
       "      <th>75%</th>\n",
       "      <td>70.000000</td>\n",
       "      <td>80.000000</td>\n",
       "      <td>11601.500000</td>\n",
       "      <td>7.000000</td>\n",
       "      <td>6.000000</td>\n",
       "      <td>2000.000000</td>\n",
       "      <td>2004.000000</td>\n",
       "      <td>166.000000</td>\n",
       "      <td>712.250000</td>\n",
       "      <td>0.000000</td>\n",
       "      <td>...</td>\n",
       "      <td>168.000000</td>\n",
       "      <td>68.000000</td>\n",
       "      <td>0.000000</td>\n",
       "      <td>0.000000</td>\n",
       "      <td>0.000000</td>\n",
       "      <td>0.000000</td>\n",
       "      <td>0.000000</td>\n",
       "      <td>8.000000</td>\n",
       "      <td>2009.000000</td>\n",
       "      <td>214000.000000</td>\n",
       "    </tr>\n",
       "    <tr>\n",
       "      <th>max</th>\n",
       "      <td>190.000000</td>\n",
       "      <td>313.000000</td>\n",
       "      <td>215245.000000</td>\n",
       "      <td>10.000000</td>\n",
       "      <td>9.000000</td>\n",
       "      <td>2010.000000</td>\n",
       "      <td>2010.000000</td>\n",
       "      <td>1600.000000</td>\n",
       "      <td>5644.000000</td>\n",
       "      <td>1474.000000</td>\n",
       "      <td>...</td>\n",
       "      <td>857.000000</td>\n",
       "      <td>547.000000</td>\n",
       "      <td>552.000000</td>\n",
       "      <td>508.000000</td>\n",
       "      <td>480.000000</td>\n",
       "      <td>738.000000</td>\n",
       "      <td>15500.000000</td>\n",
       "      <td>12.000000</td>\n",
       "      <td>2010.000000</td>\n",
       "      <td>755000.000000</td>\n",
       "    </tr>\n",
       "  </tbody>\n",
       "</table>\n",
       "<p>8 rows × 37 columns</p>\n",
       "</div>"
      ],
      "text/plain": [
       "        MSSubClass  LotFrontage        LotArea  OverallQual  OverallCond  \\\n",
       "count  1460.000000  1201.000000    1460.000000  1460.000000  1460.000000   \n",
       "mean     56.897260    70.049958   10516.828082     6.099315     5.575342   \n",
       "std      42.300571    24.284752    9981.264932     1.382997     1.112799   \n",
       "min      20.000000    21.000000    1300.000000     1.000000     1.000000   \n",
       "25%      20.000000    59.000000    7553.500000     5.000000     5.000000   \n",
       "50%      50.000000    69.000000    9478.500000     6.000000     5.000000   \n",
       "75%      70.000000    80.000000   11601.500000     7.000000     6.000000   \n",
       "max     190.000000   313.000000  215245.000000    10.000000     9.000000   \n",
       "\n",
       "         YearBuilt  YearRemodAdd   MasVnrArea   BsmtFinSF1   BsmtFinSF2  ...  \\\n",
       "count  1460.000000   1460.000000  1452.000000  1460.000000  1460.000000  ...   \n",
       "mean   1971.267808   1984.865753   103.685262   443.639726    46.549315  ...   \n",
       "std      30.202904     20.645407   181.066207   456.098091   161.319273  ...   \n",
       "min    1872.000000   1950.000000     0.000000     0.000000     0.000000  ...   \n",
       "25%    1954.000000   1967.000000     0.000000     0.000000     0.000000  ...   \n",
       "50%    1973.000000   1994.000000     0.000000   383.500000     0.000000  ...   \n",
       "75%    2000.000000   2004.000000   166.000000   712.250000     0.000000  ...   \n",
       "max    2010.000000   2010.000000  1600.000000  5644.000000  1474.000000  ...   \n",
       "\n",
       "        WoodDeckSF  OpenPorchSF  EnclosedPorch    3SsnPorch  ScreenPorch  \\\n",
       "count  1460.000000  1460.000000    1460.000000  1460.000000  1460.000000   \n",
       "mean     94.244521    46.660274      21.954110     3.409589    15.060959   \n",
       "std     125.338794    66.256028      61.119149    29.317331    55.757415   \n",
       "min       0.000000     0.000000       0.000000     0.000000     0.000000   \n",
       "25%       0.000000     0.000000       0.000000     0.000000     0.000000   \n",
       "50%       0.000000    25.000000       0.000000     0.000000     0.000000   \n",
       "75%     168.000000    68.000000       0.000000     0.000000     0.000000   \n",
       "max     857.000000   547.000000     552.000000   508.000000   480.000000   \n",
       "\n",
       "          PoolArea       MiscVal       MoSold       YrSold      SalePrice  \n",
       "count  1460.000000   1460.000000  1460.000000  1460.000000    1460.000000  \n",
       "mean      2.758904     43.489041     6.321918  2007.815753  180921.195890  \n",
       "std      40.177307    496.123024     2.703626     1.328095   79442.502883  \n",
       "min       0.000000      0.000000     1.000000  2006.000000   34900.000000  \n",
       "25%       0.000000      0.000000     5.000000  2007.000000  129975.000000  \n",
       "50%       0.000000      0.000000     6.000000  2008.000000  163000.000000  \n",
       "75%       0.000000      0.000000     8.000000  2009.000000  214000.000000  \n",
       "max     738.000000  15500.000000    12.000000  2010.000000  755000.000000  \n",
       "\n",
       "[8 rows x 37 columns]"
      ]
     },
     "execution_count": 4,
     "metadata": {},
     "output_type": "execute_result"
    }
   ],
   "source": [
    "df.describe()"
   ]
  },
  {
   "cell_type": "code",
   "execution_count": 5,
   "id": "ca8aa386",
   "metadata": {
    "execution": {
     "iopub.execute_input": "2025-10-19T11:13:33.991081Z",
     "iopub.status.busy": "2025-10-19T11:13:33.990738Z",
     "iopub.status.idle": "2025-10-19T11:13:34.011571Z",
     "shell.execute_reply": "2025-10-19T11:13:34.010755Z"
    },
    "papermill": {
     "duration": 0.032375,
     "end_time": "2025-10-19T11:13:34.012870",
     "exception": false,
     "start_time": "2025-10-19T11:13:33.980495",
     "status": "completed"
    },
    "tags": []
   },
   "outputs": [
    {
     "data": {
      "text/html": [
       "<div>\n",
       "<style scoped>\n",
       "    .dataframe tbody tr th:only-of-type {\n",
       "        vertical-align: middle;\n",
       "    }\n",
       "\n",
       "    .dataframe tbody tr th {\n",
       "        vertical-align: top;\n",
       "    }\n",
       "\n",
       "    .dataframe thead th {\n",
       "        text-align: right;\n",
       "    }\n",
       "</style>\n",
       "<table border=\"1\" class=\"dataframe\">\n",
       "  <thead>\n",
       "    <tr style=\"text-align: right;\">\n",
       "      <th></th>\n",
       "      <th>MSSubClass</th>\n",
       "      <th>MSZoning</th>\n",
       "      <th>LotFrontage</th>\n",
       "      <th>LotArea</th>\n",
       "      <th>Street</th>\n",
       "      <th>Alley</th>\n",
       "      <th>LotShape</th>\n",
       "      <th>LandContour</th>\n",
       "      <th>Utilities</th>\n",
       "      <th>LotConfig</th>\n",
       "      <th>...</th>\n",
       "      <th>PoolArea</th>\n",
       "      <th>PoolQC</th>\n",
       "      <th>Fence</th>\n",
       "      <th>MiscFeature</th>\n",
       "      <th>MiscVal</th>\n",
       "      <th>MoSold</th>\n",
       "      <th>YrSold</th>\n",
       "      <th>SaleType</th>\n",
       "      <th>SaleCondition</th>\n",
       "      <th>SalePrice</th>\n",
       "    </tr>\n",
       "    <tr>\n",
       "      <th>Id</th>\n",
       "      <th></th>\n",
       "      <th></th>\n",
       "      <th></th>\n",
       "      <th></th>\n",
       "      <th></th>\n",
       "      <th></th>\n",
       "      <th></th>\n",
       "      <th></th>\n",
       "      <th></th>\n",
       "      <th></th>\n",
       "      <th></th>\n",
       "      <th></th>\n",
       "      <th></th>\n",
       "      <th></th>\n",
       "      <th></th>\n",
       "      <th></th>\n",
       "      <th></th>\n",
       "      <th></th>\n",
       "      <th></th>\n",
       "      <th></th>\n",
       "      <th></th>\n",
       "    </tr>\n",
       "  </thead>\n",
       "  <tbody>\n",
       "    <tr>\n",
       "      <th>1</th>\n",
       "      <td>60</td>\n",
       "      <td>RL</td>\n",
       "      <td>65.0</td>\n",
       "      <td>8450</td>\n",
       "      <td>Pave</td>\n",
       "      <td>NaN</td>\n",
       "      <td>Reg</td>\n",
       "      <td>Lvl</td>\n",
       "      <td>AllPub</td>\n",
       "      <td>Inside</td>\n",
       "      <td>...</td>\n",
       "      <td>0</td>\n",
       "      <td>NaN</td>\n",
       "      <td>NaN</td>\n",
       "      <td>NaN</td>\n",
       "      <td>0</td>\n",
       "      <td>2</td>\n",
       "      <td>2008</td>\n",
       "      <td>WD</td>\n",
       "      <td>Normal</td>\n",
       "      <td>208500</td>\n",
       "    </tr>\n",
       "    <tr>\n",
       "      <th>2</th>\n",
       "      <td>20</td>\n",
       "      <td>RL</td>\n",
       "      <td>80.0</td>\n",
       "      <td>9600</td>\n",
       "      <td>Pave</td>\n",
       "      <td>NaN</td>\n",
       "      <td>Reg</td>\n",
       "      <td>Lvl</td>\n",
       "      <td>AllPub</td>\n",
       "      <td>FR2</td>\n",
       "      <td>...</td>\n",
       "      <td>0</td>\n",
       "      <td>NaN</td>\n",
       "      <td>NaN</td>\n",
       "      <td>NaN</td>\n",
       "      <td>0</td>\n",
       "      <td>5</td>\n",
       "      <td>2007</td>\n",
       "      <td>WD</td>\n",
       "      <td>Normal</td>\n",
       "      <td>181500</td>\n",
       "    </tr>\n",
       "    <tr>\n",
       "      <th>3</th>\n",
       "      <td>60</td>\n",
       "      <td>RL</td>\n",
       "      <td>68.0</td>\n",
       "      <td>11250</td>\n",
       "      <td>Pave</td>\n",
       "      <td>NaN</td>\n",
       "      <td>IR1</td>\n",
       "      <td>Lvl</td>\n",
       "      <td>AllPub</td>\n",
       "      <td>Inside</td>\n",
       "      <td>...</td>\n",
       "      <td>0</td>\n",
       "      <td>NaN</td>\n",
       "      <td>NaN</td>\n",
       "      <td>NaN</td>\n",
       "      <td>0</td>\n",
       "      <td>9</td>\n",
       "      <td>2008</td>\n",
       "      <td>WD</td>\n",
       "      <td>Normal</td>\n",
       "      <td>223500</td>\n",
       "    </tr>\n",
       "    <tr>\n",
       "      <th>4</th>\n",
       "      <td>70</td>\n",
       "      <td>RL</td>\n",
       "      <td>60.0</td>\n",
       "      <td>9550</td>\n",
       "      <td>Pave</td>\n",
       "      <td>NaN</td>\n",
       "      <td>IR1</td>\n",
       "      <td>Lvl</td>\n",
       "      <td>AllPub</td>\n",
       "      <td>Corner</td>\n",
       "      <td>...</td>\n",
       "      <td>0</td>\n",
       "      <td>NaN</td>\n",
       "      <td>NaN</td>\n",
       "      <td>NaN</td>\n",
       "      <td>0</td>\n",
       "      <td>2</td>\n",
       "      <td>2006</td>\n",
       "      <td>WD</td>\n",
       "      <td>Abnorml</td>\n",
       "      <td>140000</td>\n",
       "    </tr>\n",
       "    <tr>\n",
       "      <th>5</th>\n",
       "      <td>60</td>\n",
       "      <td>RL</td>\n",
       "      <td>84.0</td>\n",
       "      <td>14260</td>\n",
       "      <td>Pave</td>\n",
       "      <td>NaN</td>\n",
       "      <td>IR1</td>\n",
       "      <td>Lvl</td>\n",
       "      <td>AllPub</td>\n",
       "      <td>FR2</td>\n",
       "      <td>...</td>\n",
       "      <td>0</td>\n",
       "      <td>NaN</td>\n",
       "      <td>NaN</td>\n",
       "      <td>NaN</td>\n",
       "      <td>0</td>\n",
       "      <td>12</td>\n",
       "      <td>2008</td>\n",
       "      <td>WD</td>\n",
       "      <td>Normal</td>\n",
       "      <td>250000</td>\n",
       "    </tr>\n",
       "  </tbody>\n",
       "</table>\n",
       "<p>5 rows × 80 columns</p>\n",
       "</div>"
      ],
      "text/plain": [
       "    MSSubClass MSZoning  LotFrontage  LotArea Street Alley LotShape  \\\n",
       "Id                                                                    \n",
       "1           60       RL         65.0     8450   Pave   NaN      Reg   \n",
       "2           20       RL         80.0     9600   Pave   NaN      Reg   \n",
       "3           60       RL         68.0    11250   Pave   NaN      IR1   \n",
       "4           70       RL         60.0     9550   Pave   NaN      IR1   \n",
       "5           60       RL         84.0    14260   Pave   NaN      IR1   \n",
       "\n",
       "   LandContour Utilities LotConfig  ... PoolArea PoolQC Fence MiscFeature  \\\n",
       "Id                                  ...                                     \n",
       "1          Lvl    AllPub    Inside  ...        0    NaN   NaN         NaN   \n",
       "2          Lvl    AllPub       FR2  ...        0    NaN   NaN         NaN   \n",
       "3          Lvl    AllPub    Inside  ...        0    NaN   NaN         NaN   \n",
       "4          Lvl    AllPub    Corner  ...        0    NaN   NaN         NaN   \n",
       "5          Lvl    AllPub       FR2  ...        0    NaN   NaN         NaN   \n",
       "\n",
       "   MiscVal MoSold  YrSold  SaleType  SaleCondition  SalePrice  \n",
       "Id                                                             \n",
       "1        0      2    2008        WD         Normal     208500  \n",
       "2        0      5    2007        WD         Normal     181500  \n",
       "3        0      9    2008        WD         Normal     223500  \n",
       "4        0      2    2006        WD        Abnorml     140000  \n",
       "5        0     12    2008        WD         Normal     250000  \n",
       "\n",
       "[5 rows x 80 columns]"
      ]
     },
     "execution_count": 5,
     "metadata": {},
     "output_type": "execute_result"
    }
   ],
   "source": [
    "df.head()"
   ]
  },
  {
   "cell_type": "markdown",
   "id": "d948d2d9",
   "metadata": {
    "papermill": {
     "duration": 0.008498,
     "end_time": "2025-10-19T11:13:34.030735",
     "exception": false,
     "start_time": "2025-10-19T11:13:34.022237",
     "status": "completed"
    },
    "tags": []
   },
   "source": [
    "# Preprocessing"
   ]
  },
  {
   "cell_type": "markdown",
   "id": "1f92a4a0",
   "metadata": {
    "papermill": {
     "duration": 0.008859,
     "end_time": "2025-10-19T11:13:34.048631",
     "exception": false,
     "start_time": "2025-10-19T11:13:34.039772",
     "status": "completed"
    },
    "tags": []
   },
   "source": [
    "Gunakan log untuk menyimpan hasil dari tiap langkah preprocessing ke dalam sheet pada file excel"
   ]
  },
  {
   "cell_type": "code",
   "execution_count": 6,
   "id": "02801e8a",
   "metadata": {
    "execution": {
     "iopub.execute_input": "2025-10-19T11:13:34.068480Z",
     "iopub.status.busy": "2025-10-19T11:13:34.068123Z",
     "iopub.status.idle": "2025-10-19T11:13:36.075969Z",
     "shell.execute_reply": "2025-10-19T11:13:36.075240Z"
    },
    "papermill": {
     "duration": 2.019747,
     "end_time": "2025-10-19T11:13:36.077575",
     "exception": false,
     "start_time": "2025-10-19T11:13:34.057828",
     "status": "completed"
    },
    "tags": []
   },
   "outputs": [],
   "source": [
    "output_path = \"preprocessing_log.xlsx\"\n",
    "\n",
    "def log_step(df_step, filename, sheet_name, description):\n",
    "    # Sisipkan baris deskripsi di atas header\n",
    "    desc_row = pd.DataFrame([[description] + [\"\"] * (len(df_step.columns) - 1)], columns=df_step.columns)\n",
    "    df_final = pd.concat([desc_row, df_step], ignore_index=True)\n",
    "\n",
    "    file_exists = Path(filename).is_file()\n",
    "\n",
    "    if file_exists:\n",
    "        with pd.ExcelWriter(filename, engine=\"openpyxl\", mode=\"a\", if_sheet_exists=\"replace\") as writer:\n",
    "            df_final.to_excel(writer, sheet_name=sheet_name, index=False)\n",
    "    else:\n",
    "        with pd.ExcelWriter(filename, engine=\"openpyxl\") as writer:\n",
    "            df_final.to_excel(writer, sheet_name=sheet_name, index=False)\n",
    "\n",
    "log_step(df, output_path, \"raw data\", \"RAW DATA\")"
   ]
  },
  {
   "cell_type": "markdown",
   "id": "f3af69c8",
   "metadata": {
    "papermill": {
     "duration": 0.009116,
     "end_time": "2025-10-19T11:13:36.096249",
     "exception": false,
     "start_time": "2025-10-19T11:13:36.087133",
     "status": "completed"
    },
    "tags": []
   },
   "source": [
    "## Handle Missing Value"
   ]
  },
  {
   "cell_type": "markdown",
   "id": "be95d6ab",
   "metadata": {
    "papermill": {
     "duration": 0.008976,
     "end_time": "2025-10-19T11:13:36.114569",
     "exception": false,
     "start_time": "2025-10-19T11:13:36.105593",
     "status": "completed"
    },
    "tags": []
   },
   "source": [
    "Pada preprocessing data, langkah pertama adalah menghapus atau melakukan impute pada data-data kosong(null)\n",
    "\n",
    "Cari terlebih dahulu kolom yang memiliki null value untuk kemudian diambil langkah lebih lanjut"
   ]
  },
  {
   "cell_type": "code",
   "execution_count": 7,
   "id": "ee608e14",
   "metadata": {
    "execution": {
     "iopub.execute_input": "2025-10-19T11:13:36.133929Z",
     "iopub.status.busy": "2025-10-19T11:13:36.133658Z",
     "iopub.status.idle": "2025-10-19T11:13:36.143542Z",
     "shell.execute_reply": "2025-10-19T11:13:36.142425Z"
    },
    "papermill": {
     "duration": 0.021206,
     "end_time": "2025-10-19T11:13:36.144837",
     "exception": false,
     "start_time": "2025-10-19T11:13:36.123631",
     "status": "completed"
    },
    "tags": []
   },
   "outputs": [
    {
     "name": "stdout",
     "output_type": "stream",
     "text": [
      "LotFrontage      259\n",
      "Alley           1369\n",
      "MasVnrType       872\n",
      "MasVnrArea         8\n",
      "BsmtQual          37\n",
      "BsmtCond          37\n",
      "BsmtExposure      38\n",
      "BsmtFinType1      37\n",
      "BsmtFinType2      38\n",
      "Electrical         1\n",
      "FireplaceQu      690\n",
      "GarageType        81\n",
      "GarageYrBlt       81\n",
      "GarageFinish      81\n",
      "GarageQual        81\n",
      "GarageCond        81\n",
      "PoolQC          1453\n",
      "Fence           1179\n",
      "MiscFeature     1406\n",
      "dtype: int64\n"
     ]
    }
   ],
   "source": [
    "missing_values = df.isna().sum()\n",
    "# tampilkan fitur yang memiliki null value saja\n",
    "print(missing_values[missing_values > 0])"
   ]
  },
  {
   "cell_type": "markdown",
   "id": "57285cd1",
   "metadata": {
    "papermill": {
     "duration": 0.008827,
     "end_time": "2025-10-19T11:13:36.163127",
     "exception": false,
     "start_time": "2025-10-19T11:13:36.154300",
     "status": "completed"
    },
    "tags": []
   },
   "source": [
    "Terdapat beberapa fitur yang memiliki jumlah null value yang besar jika dibandingkan jumlah data. Maka langkah selanjutnya adalah melakukan eliminasi terhadap fitur yang memiliki lebih dari 60% null value"
   ]
  },
  {
   "cell_type": "code",
   "execution_count": 8,
   "id": "ce33156d",
   "metadata": {
    "execution": {
     "iopub.execute_input": "2025-10-19T11:13:36.183381Z",
     "iopub.status.busy": "2025-10-19T11:13:36.182625Z",
     "iopub.status.idle": "2025-10-19T11:13:36.192947Z",
     "shell.execute_reply": "2025-10-19T11:13:36.191938Z"
    },
    "papermill": {
     "duration": 0.022016,
     "end_time": "2025-10-19T11:13:36.194387",
     "exception": false,
     "start_time": "2025-10-19T11:13:36.172371",
     "status": "completed"
    },
    "tags": []
   },
   "outputs": [
    {
     "name": "stdout",
     "output_type": "stream",
     "text": [
      "Alley          93.767123\n",
      "PoolQC         99.520548\n",
      "Fence          80.753425\n",
      "MiscFeature    96.301370\n",
      "dtype: float64\n"
     ]
    }
   ],
   "source": [
    "persentase_null = (df.isna().sum() / len(df)) * 100\n",
    "# tampilkan fitur dengan persentase null value lebih dari 60%\n",
    "print(persentase_null[persentase_null > 60])"
   ]
  },
  {
   "cell_type": "code",
   "execution_count": 9,
   "id": "7d7663cb",
   "metadata": {
    "execution": {
     "iopub.execute_input": "2025-10-19T11:13:36.214480Z",
     "iopub.status.busy": "2025-10-19T11:13:36.214181Z",
     "iopub.status.idle": "2025-10-19T11:13:41.193080Z",
     "shell.execute_reply": "2025-10-19T11:13:41.191796Z"
    },
    "papermill": {
     "duration": 4.990821,
     "end_time": "2025-10-19T11:13:41.194735",
     "exception": false,
     "start_time": "2025-10-19T11:13:36.203914",
     "status": "completed"
    },
    "tags": []
   },
   "outputs": [
    {
     "name": "stdout",
     "output_type": "stream",
     "text": [
      "LotFrontage     259\n",
      "MasVnrType      872\n",
      "MasVnrArea        8\n",
      "BsmtQual         37\n",
      "BsmtCond         37\n",
      "BsmtExposure     38\n",
      "BsmtFinType1     37\n",
      "BsmtFinType2     38\n",
      "Electrical        1\n",
      "FireplaceQu     690\n",
      "GarageType       81\n",
      "GarageYrBlt      81\n",
      "GarageFinish     81\n",
      "GarageQual       81\n",
      "GarageCond       81\n",
      "dtype: int64\n"
     ]
    }
   ],
   "source": [
    "#Drop Fitur PoolQC, MiscFeature, Alley and Fence\n",
    "df = df.drop(['Alley','PoolQC','Fence','MiscFeature'],axis=1)\n",
    "\n",
    "log_step(df, output_path, \"handle missing value(1)\", \"Drop pada fitur yang memiliki jumlah baris kosong > 50%\")\n",
    "\n",
    "# Cek kembali daftar kolom dengan nilai null lebih dari 1\n",
    "missing_values = df.isna().sum()\n",
    "print(missing_values[missing_values > 0])"
   ]
  },
  {
   "cell_type": "markdown",
   "id": "66746e75",
   "metadata": {
    "papermill": {
     "duration": 0.009387,
     "end_time": "2025-10-19T11:13:41.213822",
     "exception": false,
     "start_time": "2025-10-19T11:13:41.204435",
     "status": "completed"
    },
    "tags": []
   },
   "source": [
    "Lakukan imputasi pada kolom tersisa yang masih memiliki null value.\n",
    "\n",
    "### Kategorikal\n",
    "- Kolom --'BsmtQual', 'BsmtCond', 'BsmtExposure', 'BsmtFinType1', 'BsmtFinType2', 'GarageType', 'GarageFinish', 'GarageQual', 'FireplaceQu', 'GarageCond'-- akan diisi dengan value \"None\" (berdasarkan data description).\n",
    "- Kolom lain diisi dengan value yang paling sering muncul"
   ]
  },
  {
   "cell_type": "code",
   "execution_count": 10,
   "id": "a26f49cd",
   "metadata": {
    "execution": {
     "iopub.execute_input": "2025-10-19T11:13:41.233782Z",
     "iopub.status.busy": "2025-10-19T11:13:41.233468Z",
     "iopub.status.idle": "2025-10-19T11:13:41.243723Z",
     "shell.execute_reply": "2025-10-19T11:13:41.242767Z"
    },
    "papermill": {
     "duration": 0.021837,
     "end_time": "2025-10-19T11:13:41.245089",
     "exception": false,
     "start_time": "2025-10-19T11:13:41.223252",
     "status": "completed"
    },
    "tags": []
   },
   "outputs": [
    {
     "name": "stdout",
     "output_type": "stream",
     "text": [
      "MasVnrType      872\n",
      "BsmtQual         37\n",
      "BsmtCond         37\n",
      "BsmtExposure     38\n",
      "BsmtFinType1     37\n",
      "BsmtFinType2     38\n",
      "Electrical        1\n",
      "FireplaceQu     690\n",
      "GarageType       81\n",
      "GarageFinish     81\n",
      "GarageQual       81\n",
      "GarageCond       81\n",
      "dtype: int64\n"
     ]
    }
   ],
   "source": [
    "object_columns_df = df.select_dtypes(include=['object'])\n",
    "\n",
    "missing_values = object_columns_df.isna().sum()\n",
    "print(missing_values[missing_values > 0])"
   ]
  },
  {
   "cell_type": "code",
   "execution_count": 11,
   "id": "02c6ed6a",
   "metadata": {
    "execution": {
     "iopub.execute_input": "2025-10-19T11:13:41.265501Z",
     "iopub.status.busy": "2025-10-19T11:13:41.264917Z",
     "iopub.status.idle": "2025-10-19T11:13:41.273912Z",
     "shell.execute_reply": "2025-10-19T11:13:41.273060Z"
    },
    "papermill": {
     "duration": 0.020587,
     "end_time": "2025-10-19T11:13:41.275319",
     "exception": false,
     "start_time": "2025-10-19T11:13:41.254732",
     "status": "completed"
    },
    "tags": []
   },
   "outputs": [],
   "source": [
    "columns_None = ['BsmtQual','BsmtCond','BsmtExposure','BsmtFinType1','BsmtFinType2','GarageType','GarageFinish','GarageQual','FireplaceQu','GarageCond']\n",
    "df[columns_None]= df[columns_None].fillna('None')"
   ]
  },
  {
   "cell_type": "code",
   "execution_count": 12,
   "id": "e8dd6899",
   "metadata": {
    "execution": {
     "iopub.execute_input": "2025-10-19T11:13:41.295655Z",
     "iopub.status.busy": "2025-10-19T11:13:41.294944Z",
     "iopub.status.idle": "2025-10-19T11:13:41.332458Z",
     "shell.execute_reply": "2025-10-19T11:13:41.331778Z"
    },
    "papermill": {
     "duration": 0.049061,
     "end_time": "2025-10-19T11:13:41.333777",
     "exception": false,
     "start_time": "2025-10-19T11:13:41.284716",
     "status": "completed"
    },
    "tags": []
   },
   "outputs": [],
   "source": [
    "columns_with_lowNA = ['MSZoning','Utilities','Exterior1st','Exterior2nd','MasVnrType','Electrical','KitchenQual','Functional','SaleType']\n",
    "# Mengisi value dengan value yang paling sering muncul\n",
    "df[columns_with_lowNA] = df[columns_with_lowNA].fillna(df.mode().iloc[0])"
   ]
  },
  {
   "cell_type": "code",
   "execution_count": 13,
   "id": "50e0c726",
   "metadata": {
    "execution": {
     "iopub.execute_input": "2025-10-19T11:13:41.354269Z",
     "iopub.status.busy": "2025-10-19T11:13:41.353492Z",
     "iopub.status.idle": "2025-10-19T11:13:49.129643Z",
     "shell.execute_reply": "2025-10-19T11:13:49.128814Z"
    },
    "papermill": {
     "duration": 7.788053,
     "end_time": "2025-10-19T11:13:49.131289",
     "exception": false,
     "start_time": "2025-10-19T11:13:41.343236",
     "status": "completed"
    },
    "tags": []
   },
   "outputs": [
    {
     "name": "stdout",
     "output_type": "stream",
     "text": [
      "Series([], dtype: int64)\n"
     ]
    }
   ],
   "source": [
    "# Cek kembali\n",
    "object_columns_df = df.select_dtypes(include=['object'])\n",
    "\n",
    "missing_values = object_columns_df.isna().sum()\n",
    "print(missing_values[missing_values > 0])\n",
    "\n",
    "# Pencatatan histori\n",
    "log_step(df, output_path, \"handle missing value(2)\", \"Imputasi pada kolom kategorikal dengan nilai None atau nilai yang paling sering muncul\")"
   ]
  },
  {
   "cell_type": "markdown",
   "id": "a57829cc",
   "metadata": {
    "papermill": {
     "duration": 0.009238,
     "end_time": "2025-10-19T11:13:49.150652",
     "exception": false,
     "start_time": "2025-10-19T11:13:49.141414",
     "status": "completed"
    },
    "tags": []
   },
   "source": [
    "### Numeric\n",
    "\n",
    "- Kolom -- 'LotFrontage', 'GarageYrBlt'-- akan diisi median\n",
    "- Kolom lain diisi dengan 0"
   ]
  },
  {
   "cell_type": "code",
   "execution_count": 14,
   "id": "164ceb7d",
   "metadata": {
    "execution": {
     "iopub.execute_input": "2025-10-19T11:13:49.170639Z",
     "iopub.status.busy": "2025-10-19T11:13:49.170357Z",
     "iopub.status.idle": "2025-10-19T11:13:49.177930Z",
     "shell.execute_reply": "2025-10-19T11:13:49.176959Z"
    },
    "papermill": {
     "duration": 0.019421,
     "end_time": "2025-10-19T11:13:49.179365",
     "exception": false,
     "start_time": "2025-10-19T11:13:49.159944",
     "status": "completed"
    },
    "tags": []
   },
   "outputs": [
    {
     "name": "stdout",
     "output_type": "stream",
     "text": [
      "LotFrontage    259\n",
      "MasVnrArea       8\n",
      "GarageYrBlt     81\n",
      "dtype: int64\n"
     ]
    }
   ],
   "source": [
    "numerical_columns_df = df.select_dtypes(exclude=['object'])\n",
    "\n",
    "missing_values = numerical_columns_df.isna().sum()\n",
    "print(missing_values[missing_values > 0])"
   ]
  },
  {
   "cell_type": "code",
   "execution_count": 15,
   "id": "0d3390cb",
   "metadata": {
    "execution": {
     "iopub.execute_input": "2025-10-19T11:13:49.200815Z",
     "iopub.status.busy": "2025-10-19T11:13:49.200487Z",
     "iopub.status.idle": "2025-10-19T11:13:49.207459Z",
     "shell.execute_reply": "2025-10-19T11:13:49.206640Z"
    },
    "papermill": {
     "duration": 0.019132,
     "end_time": "2025-10-19T11:13:49.208805",
     "exception": false,
     "start_time": "2025-10-19T11:13:49.189673",
     "status": "completed"
    },
    "tags": []
   },
   "outputs": [],
   "source": [
    "df['GarageYrBlt'] = df['GarageYrBlt'].fillna(df['YrSold']-(df['YrSold']-df['YearBuilt']).median())\n",
    "df['LotFrontage'] = df['LotFrontage'].fillna(df[\"LotFrontage\"].median())"
   ]
  },
  {
   "cell_type": "code",
   "execution_count": 16,
   "id": "103ab741",
   "metadata": {
    "execution": {
     "iopub.execute_input": "2025-10-19T11:13:49.229386Z",
     "iopub.status.busy": "2025-10-19T11:13:49.228988Z",
     "iopub.status.idle": "2025-10-19T11:13:49.239663Z",
     "shell.execute_reply": "2025-10-19T11:13:49.238919Z"
    },
    "papermill": {
     "duration": 0.022547,
     "end_time": "2025-10-19T11:13:49.241125",
     "exception": false,
     "start_time": "2025-10-19T11:13:49.218578",
     "status": "completed"
    },
    "tags": []
   },
   "outputs": [],
   "source": [
    "df= df.fillna(0)"
   ]
  },
  {
   "cell_type": "code",
   "execution_count": 17,
   "id": "b0bbbdb6",
   "metadata": {
    "_kg_hide-input": true,
    "execution": {
     "iopub.execute_input": "2025-10-19T11:13:49.261907Z",
     "iopub.status.busy": "2025-10-19T11:13:49.261596Z",
     "iopub.status.idle": "2025-10-19T11:14:00.113766Z",
     "shell.execute_reply": "2025-10-19T11:14:00.112815Z"
    },
    "papermill": {
     "duration": 10.864553,
     "end_time": "2025-10-19T11:14:00.115538",
     "exception": false,
     "start_time": "2025-10-19T11:13:49.250985",
     "status": "completed"
    },
    "tags": []
   },
   "outputs": [
    {
     "name": "stdout",
     "output_type": "stream",
     "text": [
      "Series([], dtype: int64)\n"
     ]
    }
   ],
   "source": [
    "# Cek kembali\n",
    "numerical_columns_df = df.select_dtypes(exclude=['object'])\n",
    "\n",
    "missing_values = numerical_columns_df.isna().sum()\n",
    "print(missing_values[missing_values > 0])\n",
    "\n",
    "# Pencatatan histori\n",
    "log_step(df, output_path, \"handle missing value(3)\", \"Imputasi pada kolom numerical dengan nilai median atau 0\")"
   ]
  },
  {
   "cell_type": "markdown",
   "id": "57da50f7",
   "metadata": {
    "papermill": {
     "duration": 0.009633,
     "end_time": "2025-10-19T11:14:00.135143",
     "exception": false,
     "start_time": "2025-10-19T11:14:00.125510",
     "status": "completed"
    },
    "tags": []
   },
   "source": [
    "## Encoding\n",
    "\n",
    "Untuk mempermudah analisis data, proses encoding diperlukan pada kolom yang bertipe data kategorikal\n",
    "\n",
    "Pertama-tama cek apa saja kolom kategorikal yang dapat di-encoding"
   ]
  },
  {
   "cell_type": "code",
   "execution_count": 18,
   "id": "30af1f8c",
   "metadata": {
    "execution": {
     "iopub.execute_input": "2025-10-19T11:14:00.155420Z",
     "iopub.status.busy": "2025-10-19T11:14:00.155104Z",
     "iopub.status.idle": "2025-10-19T11:14:00.163983Z",
     "shell.execute_reply": "2025-10-19T11:14:00.163142Z"
    },
    "papermill": {
     "duration": 0.0208,
     "end_time": "2025-10-19T11:14:00.165434",
     "exception": false,
     "start_time": "2025-10-19T11:14:00.144634",
     "status": "completed"
    },
    "tags": []
   },
   "outputs": [
    {
     "data": {
      "text/plain": [
       "Index(['MSZoning', 'Street', 'LotShape', 'LandContour', 'Utilities',\n",
       "       'LotConfig', 'LandSlope', 'Neighborhood', 'Condition1', 'Condition2',\n",
       "       'BldgType', 'HouseStyle', 'RoofStyle', 'RoofMatl', 'Exterior1st',\n",
       "       'Exterior2nd', 'MasVnrType', 'ExterQual', 'ExterCond', 'Foundation',\n",
       "       'BsmtQual', 'BsmtCond', 'BsmtExposure', 'BsmtFinType1', 'BsmtFinType2',\n",
       "       'Heating', 'HeatingQC', 'CentralAir', 'Electrical', 'KitchenQual',\n",
       "       'Functional', 'FireplaceQu', 'GarageType', 'GarageFinish', 'GarageQual',\n",
       "       'GarageCond', 'PavedDrive', 'SaleType', 'SaleCondition'],\n",
       "      dtype='object')"
      ]
     },
     "execution_count": 18,
     "metadata": {},
     "output_type": "execute_result"
    }
   ],
   "source": [
    "df.select_dtypes(include='object').columns"
   ]
  },
  {
   "cell_type": "markdown",
   "id": "186058e7",
   "metadata": {
    "papermill": {
     "duration": 0.009618,
     "end_time": "2025-10-19T11:14:00.185236",
     "exception": false,
     "start_time": "2025-10-19T11:14:00.175618",
     "status": "completed"
    },
    "tags": []
   },
   "source": [
    "Kelompokkan fitur bergantung pada metode encoding yang paling sesuai berdasarkan value pada fitur tersebut.\n",
    "- Ordinal Encoding:\n",
    "- One Hot Encoding: "
   ]
  },
  {
   "cell_type": "markdown",
   "id": "eb3cb5e1",
   "metadata": {
    "papermill": {
     "duration": 0.009498,
     "end_time": "2025-10-19T11:14:00.204636",
     "exception": false,
     "start_time": "2025-10-19T11:14:00.195138",
     "status": "completed"
    },
    "tags": []
   },
   "source": [
    "### Ordinal Encoding"
   ]
  },
  {
   "cell_type": "code",
   "execution_count": 19,
   "id": "28671664",
   "metadata": {
    "execution": {
     "iopub.execute_input": "2025-10-19T11:14:00.225910Z",
     "iopub.status.busy": "2025-10-19T11:14:00.225593Z",
     "iopub.status.idle": "2025-10-19T11:14:00.253955Z",
     "shell.execute_reply": "2025-10-19T11:14:00.252899Z"
    },
    "papermill": {
     "duration": 0.041175,
     "end_time": "2025-10-19T11:14:00.255728",
     "exception": false,
     "start_time": "2025-10-19T11:14:00.214553",
     "status": "completed"
    },
    "tags": []
   },
   "outputs": [],
   "source": [
    "# Membuat pemetaan untuk ordinal encoding\n",
    "qual_map = {'Po': 1, 'Fa': 2, 'TA': 3, 'Gd': 4, 'Ex': 5}\n",
    "qual_map_na = {'None': 0, **qual_map}\n",
    "lotshape_map = {'Reg': 3, 'IR1': 2, 'IR2': 1, 'IR3': 0}\n",
    "landslope_map = {'Gtl': 0, 'Mod': 1, 'Sev': 2}\n",
    "bsmtexposure_map = {'None': 0, 'No': 1, 'Mn': 2, 'Av': 3, 'Gd': 4}\n",
    "bsmtfintype_map = {'None': 0, 'Unf': 1, 'LwQ': 2, 'Rec': 3, 'BLQ': 4, 'ALQ': 5, 'GLQ': 6}\n",
    "garagefinish_map = {'None': 0, 'Unf': 1, 'RFn': 2, 'Fin': 3}\n",
    "paveddrive_map = {'N': 0, 'P': 1, 'Y': 2}\n",
    "utilities_map = {'ELO': 0, 'NoSeWa': 1, 'NoSewr': 2, 'AllPub': 3}\n",
    "functional_map = {'Sal': 0, 'Sev': 1, 'Maj2': 2, 'Maj1': 3, 'Mod': 4, 'Min2': 5, 'Min1': 6, 'Typ': 7}\n",
    "electrical_map = {'FuseP': 0, 'FuseF': 1, 'FuseA': 2, 'Mix': 3, 'SBrkr': 4}\n",
    "centralair_map = {'N': 0, 'Y':1}\n",
    "\n",
    "\n",
    "# Menerapkan Pemetaan ke DataFrame\n",
    "\n",
    "df['LotShape'] = df['LotShape'].map(lotshape_map)\n",
    "df['LandSlope'] = df['LandSlope'].map(landslope_map)\n",
    "df['ExterQual'] = df['ExterQual'].map(qual_map)\n",
    "df['ExterCond'] = df['ExterCond'].map(qual_map)\n",
    "df['BsmtQual'] = df['BsmtQual'].map(qual_map_na)\n",
    "df['BsmtCond'] = df['BsmtCond'].map(qual_map_na)\n",
    "df['BsmtExposure'] = df['BsmtExposure'].map(bsmtexposure_map)\n",
    "df['BsmtFinType1'] = df['BsmtFinType1'].map(bsmtfintype_map)\n",
    "df['BsmtFinType2'] = df['BsmtFinType2'].map(bsmtfintype_map)\n",
    "df['HeatingQC'] = df['HeatingQC'].map(qual_map)\n",
    "df['KitchenQual'] = df['KitchenQual'].map(qual_map)\n",
    "df['FireplaceQu'] = df['FireplaceQu'].map(qual_map_na)\n",
    "df['GarageFinish'] = df['GarageFinish'].map(garagefinish_map)\n",
    "df['GarageQual'] = df['GarageQual'].map(qual_map_na)\n",
    "df['GarageCond'] = df['GarageCond'].map(qual_map_na)\n",
    "df['PavedDrive'] = df['PavedDrive'].map(paveddrive_map)\n",
    "df['Utilities'] = df['Utilities'].map(utilities_map)\n",
    "df['Functional'] = df['Functional'].map(functional_map)\n",
    "df['Electrical'] = df['Electrical'].map(electrical_map)\n",
    "df['CentralAir'] = df['CentralAir'].map(centralair_map)"
   ]
  },
  {
   "cell_type": "code",
   "execution_count": 20,
   "id": "ddb15902",
   "metadata": {
    "execution": {
     "iopub.execute_input": "2025-10-19T11:14:00.282168Z",
     "iopub.status.busy": "2025-10-19T11:14:00.281196Z",
     "iopub.status.idle": "2025-10-19T11:14:13.436458Z",
     "shell.execute_reply": "2025-10-19T11:14:13.435545Z"
    },
    "papermill": {
     "duration": 13.172154,
     "end_time": "2025-10-19T11:14:13.437908",
     "exception": false,
     "start_time": "2025-10-19T11:14:00.265754",
     "status": "completed"
    },
    "tags": []
   },
   "outputs": [
    {
     "data": {
      "text/html": [
       "<div>\n",
       "<style scoped>\n",
       "    .dataframe tbody tr th:only-of-type {\n",
       "        vertical-align: middle;\n",
       "    }\n",
       "\n",
       "    .dataframe tbody tr th {\n",
       "        vertical-align: top;\n",
       "    }\n",
       "\n",
       "    .dataframe thead th {\n",
       "        text-align: right;\n",
       "    }\n",
       "</style>\n",
       "<table border=\"1\" class=\"dataframe\">\n",
       "  <thead>\n",
       "    <tr style=\"text-align: right;\">\n",
       "      <th></th>\n",
       "      <th>MSSubClass</th>\n",
       "      <th>MSZoning</th>\n",
       "      <th>LotFrontage</th>\n",
       "      <th>LotArea</th>\n",
       "      <th>Street</th>\n",
       "      <th>LotShape</th>\n",
       "      <th>LandContour</th>\n",
       "      <th>Utilities</th>\n",
       "      <th>LotConfig</th>\n",
       "      <th>LandSlope</th>\n",
       "      <th>...</th>\n",
       "      <th>EnclosedPorch</th>\n",
       "      <th>3SsnPorch</th>\n",
       "      <th>ScreenPorch</th>\n",
       "      <th>PoolArea</th>\n",
       "      <th>MiscVal</th>\n",
       "      <th>MoSold</th>\n",
       "      <th>YrSold</th>\n",
       "      <th>SaleType</th>\n",
       "      <th>SaleCondition</th>\n",
       "      <th>SalePrice</th>\n",
       "    </tr>\n",
       "    <tr>\n",
       "      <th>Id</th>\n",
       "      <th></th>\n",
       "      <th></th>\n",
       "      <th></th>\n",
       "      <th></th>\n",
       "      <th></th>\n",
       "      <th></th>\n",
       "      <th></th>\n",
       "      <th></th>\n",
       "      <th></th>\n",
       "      <th></th>\n",
       "      <th></th>\n",
       "      <th></th>\n",
       "      <th></th>\n",
       "      <th></th>\n",
       "      <th></th>\n",
       "      <th></th>\n",
       "      <th></th>\n",
       "      <th></th>\n",
       "      <th></th>\n",
       "      <th></th>\n",
       "      <th></th>\n",
       "    </tr>\n",
       "  </thead>\n",
       "  <tbody>\n",
       "    <tr>\n",
       "      <th>1</th>\n",
       "      <td>60</td>\n",
       "      <td>RL</td>\n",
       "      <td>65.0</td>\n",
       "      <td>8450</td>\n",
       "      <td>Pave</td>\n",
       "      <td>3</td>\n",
       "      <td>Lvl</td>\n",
       "      <td>3</td>\n",
       "      <td>Inside</td>\n",
       "      <td>0</td>\n",
       "      <td>...</td>\n",
       "      <td>0</td>\n",
       "      <td>0</td>\n",
       "      <td>0</td>\n",
       "      <td>0</td>\n",
       "      <td>0</td>\n",
       "      <td>2</td>\n",
       "      <td>2008</td>\n",
       "      <td>WD</td>\n",
       "      <td>Normal</td>\n",
       "      <td>208500</td>\n",
       "    </tr>\n",
       "    <tr>\n",
       "      <th>2</th>\n",
       "      <td>20</td>\n",
       "      <td>RL</td>\n",
       "      <td>80.0</td>\n",
       "      <td>9600</td>\n",
       "      <td>Pave</td>\n",
       "      <td>3</td>\n",
       "      <td>Lvl</td>\n",
       "      <td>3</td>\n",
       "      <td>FR2</td>\n",
       "      <td>0</td>\n",
       "      <td>...</td>\n",
       "      <td>0</td>\n",
       "      <td>0</td>\n",
       "      <td>0</td>\n",
       "      <td>0</td>\n",
       "      <td>0</td>\n",
       "      <td>5</td>\n",
       "      <td>2007</td>\n",
       "      <td>WD</td>\n",
       "      <td>Normal</td>\n",
       "      <td>181500</td>\n",
       "    </tr>\n",
       "    <tr>\n",
       "      <th>3</th>\n",
       "      <td>60</td>\n",
       "      <td>RL</td>\n",
       "      <td>68.0</td>\n",
       "      <td>11250</td>\n",
       "      <td>Pave</td>\n",
       "      <td>2</td>\n",
       "      <td>Lvl</td>\n",
       "      <td>3</td>\n",
       "      <td>Inside</td>\n",
       "      <td>0</td>\n",
       "      <td>...</td>\n",
       "      <td>0</td>\n",
       "      <td>0</td>\n",
       "      <td>0</td>\n",
       "      <td>0</td>\n",
       "      <td>0</td>\n",
       "      <td>9</td>\n",
       "      <td>2008</td>\n",
       "      <td>WD</td>\n",
       "      <td>Normal</td>\n",
       "      <td>223500</td>\n",
       "    </tr>\n",
       "    <tr>\n",
       "      <th>4</th>\n",
       "      <td>70</td>\n",
       "      <td>RL</td>\n",
       "      <td>60.0</td>\n",
       "      <td>9550</td>\n",
       "      <td>Pave</td>\n",
       "      <td>2</td>\n",
       "      <td>Lvl</td>\n",
       "      <td>3</td>\n",
       "      <td>Corner</td>\n",
       "      <td>0</td>\n",
       "      <td>...</td>\n",
       "      <td>272</td>\n",
       "      <td>0</td>\n",
       "      <td>0</td>\n",
       "      <td>0</td>\n",
       "      <td>0</td>\n",
       "      <td>2</td>\n",
       "      <td>2006</td>\n",
       "      <td>WD</td>\n",
       "      <td>Abnorml</td>\n",
       "      <td>140000</td>\n",
       "    </tr>\n",
       "    <tr>\n",
       "      <th>5</th>\n",
       "      <td>60</td>\n",
       "      <td>RL</td>\n",
       "      <td>84.0</td>\n",
       "      <td>14260</td>\n",
       "      <td>Pave</td>\n",
       "      <td>2</td>\n",
       "      <td>Lvl</td>\n",
       "      <td>3</td>\n",
       "      <td>FR2</td>\n",
       "      <td>0</td>\n",
       "      <td>...</td>\n",
       "      <td>0</td>\n",
       "      <td>0</td>\n",
       "      <td>0</td>\n",
       "      <td>0</td>\n",
       "      <td>0</td>\n",
       "      <td>12</td>\n",
       "      <td>2008</td>\n",
       "      <td>WD</td>\n",
       "      <td>Normal</td>\n",
       "      <td>250000</td>\n",
       "    </tr>\n",
       "  </tbody>\n",
       "</table>\n",
       "<p>5 rows × 76 columns</p>\n",
       "</div>"
      ],
      "text/plain": [
       "    MSSubClass MSZoning  LotFrontage  LotArea Street  LotShape LandContour  \\\n",
       "Id                                                                           \n",
       "1           60       RL         65.0     8450   Pave         3         Lvl   \n",
       "2           20       RL         80.0     9600   Pave         3         Lvl   \n",
       "3           60       RL         68.0    11250   Pave         2         Lvl   \n",
       "4           70       RL         60.0     9550   Pave         2         Lvl   \n",
       "5           60       RL         84.0    14260   Pave         2         Lvl   \n",
       "\n",
       "    Utilities LotConfig  LandSlope  ... EnclosedPorch 3SsnPorch ScreenPorch  \\\n",
       "Id                                  ...                                       \n",
       "1           3    Inside          0  ...             0         0           0   \n",
       "2           3       FR2          0  ...             0         0           0   \n",
       "3           3    Inside          0  ...             0         0           0   \n",
       "4           3    Corner          0  ...           272         0           0   \n",
       "5           3       FR2          0  ...             0         0           0   \n",
       "\n",
       "   PoolArea MiscVal  MoSold  YrSold  SaleType  SaleCondition SalePrice  \n",
       "Id                                                                      \n",
       "1         0       0       2    2008        WD         Normal    208500  \n",
       "2         0       0       5    2007        WD         Normal    181500  \n",
       "3         0       0       9    2008        WD         Normal    223500  \n",
       "4         0       0       2    2006        WD        Abnorml    140000  \n",
       "5         0       0      12    2008        WD         Normal    250000  \n",
       "\n",
       "[5 rows x 76 columns]"
      ]
     },
     "execution_count": 20,
     "metadata": {},
     "output_type": "execute_result"
    }
   ],
   "source": [
    "# Pencatatan histori\n",
    "log_step(df, output_path, \"encoding(1)\", \"Melakukan ordinal encoding untuk fitur-fitur yang sesuai\")\n",
    "\n",
    "# Cek hasil encoding\n",
    "df.head()"
   ]
  },
  {
   "cell_type": "markdown",
   "id": "88a8af80",
   "metadata": {
    "papermill": {
     "duration": 0.009954,
     "end_time": "2025-10-19T11:14:13.458396",
     "exception": false,
     "start_time": "2025-10-19T11:14:13.448442",
     "status": "completed"
    },
    "tags": []
   },
   "source": [
    "### One-Hot Encoding"
   ]
  },
  {
   "cell_type": "code",
   "execution_count": 21,
   "id": "4c29eb9f",
   "metadata": {
    "execution": {
     "iopub.execute_input": "2025-10-19T11:14:13.481225Z",
     "iopub.status.busy": "2025-10-19T11:14:13.480285Z",
     "iopub.status.idle": "2025-10-19T11:14:13.505841Z",
     "shell.execute_reply": "2025-10-19T11:14:13.504935Z"
    },
    "papermill": {
     "duration": 0.037964,
     "end_time": "2025-10-19T11:14:13.507498",
     "exception": false,
     "start_time": "2025-10-19T11:14:13.469534",
     "status": "completed"
    },
    "tags": []
   },
   "outputs": [],
   "source": [
    "nominal_column = [\n",
    "    'MSZoning', 'Street', 'LandContour', 'LotConfig', 'BldgType', \n",
    "    'HouseStyle', 'RoofStyle', 'RoofMatl', 'Exterior1st', 'Exterior2nd', \n",
    "    'MasVnrType', 'Foundation', 'Heating', 'GarageType', \n",
    "    'SaleType', 'SaleCondition', 'Condition1', 'Condition2', 'Neighborhood', \n",
    "    'MSSubClass'\n",
    "]\n",
    "\n",
    "df = pd.get_dummies(df, columns=nominal_column, drop_first=True)"
   ]
  },
  {
   "cell_type": "code",
   "execution_count": 22,
   "id": "b5fb39f0",
   "metadata": {
    "execution": {
     "iopub.execute_input": "2025-10-19T11:14:13.529255Z",
     "iopub.status.busy": "2025-10-19T11:14:13.528506Z",
     "iopub.status.idle": "2025-10-19T11:14:31.976776Z",
     "shell.execute_reply": "2025-10-19T11:14:31.975857Z"
    },
    "papermill": {
     "duration": 18.460572,
     "end_time": "2025-10-19T11:14:31.978306",
     "exception": false,
     "start_time": "2025-10-19T11:14:13.517734",
     "status": "completed"
    },
    "tags": []
   },
   "outputs": [
    {
     "data": {
      "text/html": [
       "<div>\n",
       "<style scoped>\n",
       "    .dataframe tbody tr th:only-of-type {\n",
       "        vertical-align: middle;\n",
       "    }\n",
       "\n",
       "    .dataframe tbody tr th {\n",
       "        vertical-align: top;\n",
       "    }\n",
       "\n",
       "    .dataframe thead th {\n",
       "        text-align: right;\n",
       "    }\n",
       "</style>\n",
       "<table border=\"1\" class=\"dataframe\">\n",
       "  <thead>\n",
       "    <tr style=\"text-align: right;\">\n",
       "      <th></th>\n",
       "      <th>LotFrontage</th>\n",
       "      <th>LotArea</th>\n",
       "      <th>LotShape</th>\n",
       "      <th>Utilities</th>\n",
       "      <th>LandSlope</th>\n",
       "      <th>OverallQual</th>\n",
       "      <th>OverallCond</th>\n",
       "      <th>YearBuilt</th>\n",
       "      <th>YearRemodAdd</th>\n",
       "      <th>MasVnrArea</th>\n",
       "      <th>...</th>\n",
       "      <th>MSSubClass_60</th>\n",
       "      <th>MSSubClass_70</th>\n",
       "      <th>MSSubClass_75</th>\n",
       "      <th>MSSubClass_80</th>\n",
       "      <th>MSSubClass_85</th>\n",
       "      <th>MSSubClass_90</th>\n",
       "      <th>MSSubClass_120</th>\n",
       "      <th>MSSubClass_160</th>\n",
       "      <th>MSSubClass_180</th>\n",
       "      <th>MSSubClass_190</th>\n",
       "    </tr>\n",
       "    <tr>\n",
       "      <th>Id</th>\n",
       "      <th></th>\n",
       "      <th></th>\n",
       "      <th></th>\n",
       "      <th></th>\n",
       "      <th></th>\n",
       "      <th></th>\n",
       "      <th></th>\n",
       "      <th></th>\n",
       "      <th></th>\n",
       "      <th></th>\n",
       "      <th></th>\n",
       "      <th></th>\n",
       "      <th></th>\n",
       "      <th></th>\n",
       "      <th></th>\n",
       "      <th></th>\n",
       "      <th></th>\n",
       "      <th></th>\n",
       "      <th></th>\n",
       "      <th></th>\n",
       "      <th></th>\n",
       "    </tr>\n",
       "  </thead>\n",
       "  <tbody>\n",
       "    <tr>\n",
       "      <th>1</th>\n",
       "      <td>65.0</td>\n",
       "      <td>8450</td>\n",
       "      <td>3</td>\n",
       "      <td>3</td>\n",
       "      <td>0</td>\n",
       "      <td>7</td>\n",
       "      <td>5</td>\n",
       "      <td>2003</td>\n",
       "      <td>2003</td>\n",
       "      <td>196.0</td>\n",
       "      <td>...</td>\n",
       "      <td>True</td>\n",
       "      <td>False</td>\n",
       "      <td>False</td>\n",
       "      <td>False</td>\n",
       "      <td>False</td>\n",
       "      <td>False</td>\n",
       "      <td>False</td>\n",
       "      <td>False</td>\n",
       "      <td>False</td>\n",
       "      <td>False</td>\n",
       "    </tr>\n",
       "    <tr>\n",
       "      <th>2</th>\n",
       "      <td>80.0</td>\n",
       "      <td>9600</td>\n",
       "      <td>3</td>\n",
       "      <td>3</td>\n",
       "      <td>0</td>\n",
       "      <td>6</td>\n",
       "      <td>8</td>\n",
       "      <td>1976</td>\n",
       "      <td>1976</td>\n",
       "      <td>0.0</td>\n",
       "      <td>...</td>\n",
       "      <td>False</td>\n",
       "      <td>False</td>\n",
       "      <td>False</td>\n",
       "      <td>False</td>\n",
       "      <td>False</td>\n",
       "      <td>False</td>\n",
       "      <td>False</td>\n",
       "      <td>False</td>\n",
       "      <td>False</td>\n",
       "      <td>False</td>\n",
       "    </tr>\n",
       "    <tr>\n",
       "      <th>3</th>\n",
       "      <td>68.0</td>\n",
       "      <td>11250</td>\n",
       "      <td>2</td>\n",
       "      <td>3</td>\n",
       "      <td>0</td>\n",
       "      <td>7</td>\n",
       "      <td>5</td>\n",
       "      <td>2001</td>\n",
       "      <td>2002</td>\n",
       "      <td>162.0</td>\n",
       "      <td>...</td>\n",
       "      <td>True</td>\n",
       "      <td>False</td>\n",
       "      <td>False</td>\n",
       "      <td>False</td>\n",
       "      <td>False</td>\n",
       "      <td>False</td>\n",
       "      <td>False</td>\n",
       "      <td>False</td>\n",
       "      <td>False</td>\n",
       "      <td>False</td>\n",
       "    </tr>\n",
       "    <tr>\n",
       "      <th>4</th>\n",
       "      <td>60.0</td>\n",
       "      <td>9550</td>\n",
       "      <td>2</td>\n",
       "      <td>3</td>\n",
       "      <td>0</td>\n",
       "      <td>7</td>\n",
       "      <td>5</td>\n",
       "      <td>1915</td>\n",
       "      <td>1970</td>\n",
       "      <td>0.0</td>\n",
       "      <td>...</td>\n",
       "      <td>False</td>\n",
       "      <td>True</td>\n",
       "      <td>False</td>\n",
       "      <td>False</td>\n",
       "      <td>False</td>\n",
       "      <td>False</td>\n",
       "      <td>False</td>\n",
       "      <td>False</td>\n",
       "      <td>False</td>\n",
       "      <td>False</td>\n",
       "    </tr>\n",
       "    <tr>\n",
       "      <th>5</th>\n",
       "      <td>84.0</td>\n",
       "      <td>14260</td>\n",
       "      <td>2</td>\n",
       "      <td>3</td>\n",
       "      <td>0</td>\n",
       "      <td>8</td>\n",
       "      <td>5</td>\n",
       "      <td>2000</td>\n",
       "      <td>2000</td>\n",
       "      <td>350.0</td>\n",
       "      <td>...</td>\n",
       "      <td>True</td>\n",
       "      <td>False</td>\n",
       "      <td>False</td>\n",
       "      <td>False</td>\n",
       "      <td>False</td>\n",
       "      <td>False</td>\n",
       "      <td>False</td>\n",
       "      <td>False</td>\n",
       "      <td>False</td>\n",
       "      <td>False</td>\n",
       "    </tr>\n",
       "  </tbody>\n",
       "</table>\n",
       "<p>5 rows × 204 columns</p>\n",
       "</div>"
      ],
      "text/plain": [
       "    LotFrontage  LotArea  LotShape  Utilities  LandSlope  OverallQual  \\\n",
       "Id                                                                      \n",
       "1          65.0     8450         3          3          0            7   \n",
       "2          80.0     9600         3          3          0            6   \n",
       "3          68.0    11250         2          3          0            7   \n",
       "4          60.0     9550         2          3          0            7   \n",
       "5          84.0    14260         2          3          0            8   \n",
       "\n",
       "    OverallCond  YearBuilt  YearRemodAdd  MasVnrArea  ...  MSSubClass_60  \\\n",
       "Id                                                    ...                  \n",
       "1             5       2003          2003       196.0  ...           True   \n",
       "2             8       1976          1976         0.0  ...          False   \n",
       "3             5       2001          2002       162.0  ...           True   \n",
       "4             5       1915          1970         0.0  ...          False   \n",
       "5             5       2000          2000       350.0  ...           True   \n",
       "\n",
       "    MSSubClass_70  MSSubClass_75  MSSubClass_80  MSSubClass_85  MSSubClass_90  \\\n",
       "Id                                                                              \n",
       "1           False          False          False          False          False   \n",
       "2           False          False          False          False          False   \n",
       "3           False          False          False          False          False   \n",
       "4            True          False          False          False          False   \n",
       "5           False          False          False          False          False   \n",
       "\n",
       "    MSSubClass_120  MSSubClass_160  MSSubClass_180  MSSubClass_190  \n",
       "Id                                                                  \n",
       "1            False           False           False           False  \n",
       "2            False           False           False           False  \n",
       "3            False           False           False           False  \n",
       "4            False           False           False           False  \n",
       "5            False           False           False           False  \n",
       "\n",
       "[5 rows x 204 columns]"
      ]
     },
     "execution_count": 22,
     "metadata": {},
     "output_type": "execute_result"
    }
   ],
   "source": [
    "# Pencatatan histori\n",
    "log_step(df, output_path, \"encoding(2)\", \"Melakukan One-Hot encoding untuk fitur-fitur yang sesuai\")\n",
    "\n",
    "df.select_dtypes(include='object').columns\n",
    "df.head()"
   ]
  },
  {
   "cell_type": "markdown",
   "id": "b2e04230",
   "metadata": {
    "papermill": {
     "duration": 0.010207,
     "end_time": "2025-10-19T11:14:31.999279",
     "exception": false,
     "start_time": "2025-10-19T11:14:31.989072",
     "status": "completed"
    },
    "tags": []
   },
   "source": [
    "## Create Features\n",
    "\n",
    "Penambahan fitur TotalArea dari GrLivArea + TotalBsmSF"
   ]
  },
  {
   "cell_type": "code",
   "execution_count": 23,
   "id": "b788d55a",
   "metadata": {
    "execution": {
     "iopub.execute_input": "2025-10-19T11:14:32.021627Z",
     "iopub.status.busy": "2025-10-19T11:14:32.020863Z",
     "iopub.status.idle": "2025-10-19T11:14:32.026829Z",
     "shell.execute_reply": "2025-10-19T11:14:32.025797Z"
    },
    "papermill": {
     "duration": 0.018719,
     "end_time": "2025-10-19T11:14:32.028367",
     "exception": false,
     "start_time": "2025-10-19T11:14:32.009648",
     "status": "completed"
    },
    "tags": []
   },
   "outputs": [],
   "source": [
    "df['TotalArea'] = df['GrLivArea'] + df['TotalBsmtSF']"
   ]
  },
  {
   "cell_type": "code",
   "execution_count": 24,
   "id": "c323f9a8",
   "metadata": {
    "execution": {
     "iopub.execute_input": "2025-10-19T11:14:32.049854Z",
     "iopub.status.busy": "2025-10-19T11:14:32.049548Z",
     "iopub.status.idle": "2025-10-19T11:14:56.453002Z",
     "shell.execute_reply": "2025-10-19T11:14:56.452176Z"
    },
    "papermill": {
     "duration": 24.415926,
     "end_time": "2025-10-19T11:14:56.454417",
     "exception": false,
     "start_time": "2025-10-19T11:14:32.038491",
     "status": "completed"
    },
    "tags": []
   },
   "outputs": [
    {
     "data": {
      "text/html": [
       "<div>\n",
       "<style scoped>\n",
       "    .dataframe tbody tr th:only-of-type {\n",
       "        vertical-align: middle;\n",
       "    }\n",
       "\n",
       "    .dataframe tbody tr th {\n",
       "        vertical-align: top;\n",
       "    }\n",
       "\n",
       "    .dataframe thead th {\n",
       "        text-align: right;\n",
       "    }\n",
       "</style>\n",
       "<table border=\"1\" class=\"dataframe\">\n",
       "  <thead>\n",
       "    <tr style=\"text-align: right;\">\n",
       "      <th></th>\n",
       "      <th>LotFrontage</th>\n",
       "      <th>LotArea</th>\n",
       "      <th>LotShape</th>\n",
       "      <th>Utilities</th>\n",
       "      <th>LandSlope</th>\n",
       "      <th>OverallQual</th>\n",
       "      <th>OverallCond</th>\n",
       "      <th>YearBuilt</th>\n",
       "      <th>YearRemodAdd</th>\n",
       "      <th>MasVnrArea</th>\n",
       "      <th>...</th>\n",
       "      <th>MSSubClass_70</th>\n",
       "      <th>MSSubClass_75</th>\n",
       "      <th>MSSubClass_80</th>\n",
       "      <th>MSSubClass_85</th>\n",
       "      <th>MSSubClass_90</th>\n",
       "      <th>MSSubClass_120</th>\n",
       "      <th>MSSubClass_160</th>\n",
       "      <th>MSSubClass_180</th>\n",
       "      <th>MSSubClass_190</th>\n",
       "      <th>TotalArea</th>\n",
       "    </tr>\n",
       "    <tr>\n",
       "      <th>Id</th>\n",
       "      <th></th>\n",
       "      <th></th>\n",
       "      <th></th>\n",
       "      <th></th>\n",
       "      <th></th>\n",
       "      <th></th>\n",
       "      <th></th>\n",
       "      <th></th>\n",
       "      <th></th>\n",
       "      <th></th>\n",
       "      <th></th>\n",
       "      <th></th>\n",
       "      <th></th>\n",
       "      <th></th>\n",
       "      <th></th>\n",
       "      <th></th>\n",
       "      <th></th>\n",
       "      <th></th>\n",
       "      <th></th>\n",
       "      <th></th>\n",
       "      <th></th>\n",
       "    </tr>\n",
       "  </thead>\n",
       "  <tbody>\n",
       "    <tr>\n",
       "      <th>1</th>\n",
       "      <td>65.0</td>\n",
       "      <td>8450</td>\n",
       "      <td>3</td>\n",
       "      <td>3</td>\n",
       "      <td>0</td>\n",
       "      <td>7</td>\n",
       "      <td>5</td>\n",
       "      <td>2003</td>\n",
       "      <td>2003</td>\n",
       "      <td>196.0</td>\n",
       "      <td>...</td>\n",
       "      <td>False</td>\n",
       "      <td>False</td>\n",
       "      <td>False</td>\n",
       "      <td>False</td>\n",
       "      <td>False</td>\n",
       "      <td>False</td>\n",
       "      <td>False</td>\n",
       "      <td>False</td>\n",
       "      <td>False</td>\n",
       "      <td>2566</td>\n",
       "    </tr>\n",
       "    <tr>\n",
       "      <th>2</th>\n",
       "      <td>80.0</td>\n",
       "      <td>9600</td>\n",
       "      <td>3</td>\n",
       "      <td>3</td>\n",
       "      <td>0</td>\n",
       "      <td>6</td>\n",
       "      <td>8</td>\n",
       "      <td>1976</td>\n",
       "      <td>1976</td>\n",
       "      <td>0.0</td>\n",
       "      <td>...</td>\n",
       "      <td>False</td>\n",
       "      <td>False</td>\n",
       "      <td>False</td>\n",
       "      <td>False</td>\n",
       "      <td>False</td>\n",
       "      <td>False</td>\n",
       "      <td>False</td>\n",
       "      <td>False</td>\n",
       "      <td>False</td>\n",
       "      <td>2524</td>\n",
       "    </tr>\n",
       "    <tr>\n",
       "      <th>3</th>\n",
       "      <td>68.0</td>\n",
       "      <td>11250</td>\n",
       "      <td>2</td>\n",
       "      <td>3</td>\n",
       "      <td>0</td>\n",
       "      <td>7</td>\n",
       "      <td>5</td>\n",
       "      <td>2001</td>\n",
       "      <td>2002</td>\n",
       "      <td>162.0</td>\n",
       "      <td>...</td>\n",
       "      <td>False</td>\n",
       "      <td>False</td>\n",
       "      <td>False</td>\n",
       "      <td>False</td>\n",
       "      <td>False</td>\n",
       "      <td>False</td>\n",
       "      <td>False</td>\n",
       "      <td>False</td>\n",
       "      <td>False</td>\n",
       "      <td>2706</td>\n",
       "    </tr>\n",
       "    <tr>\n",
       "      <th>4</th>\n",
       "      <td>60.0</td>\n",
       "      <td>9550</td>\n",
       "      <td>2</td>\n",
       "      <td>3</td>\n",
       "      <td>0</td>\n",
       "      <td>7</td>\n",
       "      <td>5</td>\n",
       "      <td>1915</td>\n",
       "      <td>1970</td>\n",
       "      <td>0.0</td>\n",
       "      <td>...</td>\n",
       "      <td>True</td>\n",
       "      <td>False</td>\n",
       "      <td>False</td>\n",
       "      <td>False</td>\n",
       "      <td>False</td>\n",
       "      <td>False</td>\n",
       "      <td>False</td>\n",
       "      <td>False</td>\n",
       "      <td>False</td>\n",
       "      <td>2473</td>\n",
       "    </tr>\n",
       "    <tr>\n",
       "      <th>5</th>\n",
       "      <td>84.0</td>\n",
       "      <td>14260</td>\n",
       "      <td>2</td>\n",
       "      <td>3</td>\n",
       "      <td>0</td>\n",
       "      <td>8</td>\n",
       "      <td>5</td>\n",
       "      <td>2000</td>\n",
       "      <td>2000</td>\n",
       "      <td>350.0</td>\n",
       "      <td>...</td>\n",
       "      <td>False</td>\n",
       "      <td>False</td>\n",
       "      <td>False</td>\n",
       "      <td>False</td>\n",
       "      <td>False</td>\n",
       "      <td>False</td>\n",
       "      <td>False</td>\n",
       "      <td>False</td>\n",
       "      <td>False</td>\n",
       "      <td>3343</td>\n",
       "    </tr>\n",
       "  </tbody>\n",
       "</table>\n",
       "<p>5 rows × 205 columns</p>\n",
       "</div>"
      ],
      "text/plain": [
       "    LotFrontage  LotArea  LotShape  Utilities  LandSlope  OverallQual  \\\n",
       "Id                                                                      \n",
       "1          65.0     8450         3          3          0            7   \n",
       "2          80.0     9600         3          3          0            6   \n",
       "3          68.0    11250         2          3          0            7   \n",
       "4          60.0     9550         2          3          0            7   \n",
       "5          84.0    14260         2          3          0            8   \n",
       "\n",
       "    OverallCond  YearBuilt  YearRemodAdd  MasVnrArea  ...  MSSubClass_70  \\\n",
       "Id                                                    ...                  \n",
       "1             5       2003          2003       196.0  ...          False   \n",
       "2             8       1976          1976         0.0  ...          False   \n",
       "3             5       2001          2002       162.0  ...          False   \n",
       "4             5       1915          1970         0.0  ...           True   \n",
       "5             5       2000          2000       350.0  ...          False   \n",
       "\n",
       "    MSSubClass_75  MSSubClass_80  MSSubClass_85  MSSubClass_90  \\\n",
       "Id                                                               \n",
       "1           False          False          False          False   \n",
       "2           False          False          False          False   \n",
       "3           False          False          False          False   \n",
       "4           False          False          False          False   \n",
       "5           False          False          False          False   \n",
       "\n",
       "    MSSubClass_120  MSSubClass_160  MSSubClass_180  MSSubClass_190  TotalArea  \n",
       "Id                                                                             \n",
       "1            False           False           False           False       2566  \n",
       "2            False           False           False           False       2524  \n",
       "3            False           False           False           False       2706  \n",
       "4            False           False           False           False       2473  \n",
       "5            False           False           False           False       3343  \n",
       "\n",
       "[5 rows x 205 columns]"
      ]
     },
     "execution_count": 24,
     "metadata": {},
     "output_type": "execute_result"
    }
   ],
   "source": [
    "# Pencatatan histori\n",
    "log_step(df, output_path, \"feature engineering\", \"Menambahkan fitur baru dari fitur lama yang ada\")\n",
    "df.head()"
   ]
  },
  {
   "cell_type": "markdown",
   "id": "b82180b8",
   "metadata": {
    "papermill": {
     "duration": 0.010616,
     "end_time": "2025-10-19T11:14:56.476580",
     "exception": false,
     "start_time": "2025-10-19T11:14:56.465964",
     "status": "completed"
    },
    "tags": []
   },
   "source": [
    "## Normalisasi"
   ]
  },
  {
   "cell_type": "code",
   "execution_count": 25,
   "id": "8fba660a",
   "metadata": {
    "execution": {
     "iopub.execute_input": "2025-10-19T11:14:56.499553Z",
     "iopub.status.busy": "2025-10-19T11:14:56.499218Z",
     "iopub.status.idle": "2025-10-19T11:14:56.523218Z",
     "shell.execute_reply": "2025-10-19T11:14:56.522534Z"
    },
    "papermill": {
     "duration": 0.037228,
     "end_time": "2025-10-19T11:14:56.524744",
     "exception": false,
     "start_time": "2025-10-19T11:14:56.487516",
     "status": "completed"
    },
    "tags": []
   },
   "outputs": [],
   "source": [
    "# Melakukan normalisasi selain kolom one-hot\n",
    "encoded_prefixes = tuple(nominal_column)\n",
    "numeric_columns = [col for col in df.columns if not col.startswith(encoded_prefixes)]\n",
    "\n",
    "# inisialisasi scaler\n",
    "scaler = StandardScaler()\n",
    "\n",
    "X_scaled = df[numeric_columns] = scaler.fit_transform(df[numeric_columns])"
   ]
  },
  {
   "cell_type": "code",
   "execution_count": 26,
   "id": "a406e946",
   "metadata": {
    "execution": {
     "iopub.execute_input": "2025-10-19T11:14:56.547419Z",
     "iopub.status.busy": "2025-10-19T11:14:56.547124Z",
     "iopub.status.idle": "2025-10-19T11:15:26.308257Z",
     "shell.execute_reply": "2025-10-19T11:15:26.307336Z"
    },
    "papermill": {
     "duration": 29.774322,
     "end_time": "2025-10-19T11:15:26.309801",
     "exception": false,
     "start_time": "2025-10-19T11:14:56.535479",
     "status": "completed"
    },
    "tags": []
   },
   "outputs": [
    {
     "data": {
      "text/html": [
       "<div>\n",
       "<style scoped>\n",
       "    .dataframe tbody tr th:only-of-type {\n",
       "        vertical-align: middle;\n",
       "    }\n",
       "\n",
       "    .dataframe tbody tr th {\n",
       "        vertical-align: top;\n",
       "    }\n",
       "\n",
       "    .dataframe thead th {\n",
       "        text-align: right;\n",
       "    }\n",
       "</style>\n",
       "<table border=\"1\" class=\"dataframe\">\n",
       "  <thead>\n",
       "    <tr style=\"text-align: right;\">\n",
       "      <th></th>\n",
       "      <th>LotFrontage</th>\n",
       "      <th>LotArea</th>\n",
       "      <th>LotShape</th>\n",
       "      <th>Utilities</th>\n",
       "      <th>LandSlope</th>\n",
       "      <th>OverallQual</th>\n",
       "      <th>OverallCond</th>\n",
       "      <th>YearBuilt</th>\n",
       "      <th>YearRemodAdd</th>\n",
       "      <th>MasVnrArea</th>\n",
       "      <th>...</th>\n",
       "      <th>MSSubClass_70</th>\n",
       "      <th>MSSubClass_75</th>\n",
       "      <th>MSSubClass_80</th>\n",
       "      <th>MSSubClass_85</th>\n",
       "      <th>MSSubClass_90</th>\n",
       "      <th>MSSubClass_120</th>\n",
       "      <th>MSSubClass_160</th>\n",
       "      <th>MSSubClass_180</th>\n",
       "      <th>MSSubClass_190</th>\n",
       "      <th>TotalArea</th>\n",
       "    </tr>\n",
       "    <tr>\n",
       "      <th>Id</th>\n",
       "      <th></th>\n",
       "      <th></th>\n",
       "      <th></th>\n",
       "      <th></th>\n",
       "      <th></th>\n",
       "      <th></th>\n",
       "      <th></th>\n",
       "      <th></th>\n",
       "      <th></th>\n",
       "      <th></th>\n",
       "      <th></th>\n",
       "      <th></th>\n",
       "      <th></th>\n",
       "      <th></th>\n",
       "      <th></th>\n",
       "      <th></th>\n",
       "      <th></th>\n",
       "      <th></th>\n",
       "      <th></th>\n",
       "      <th></th>\n",
       "      <th></th>\n",
       "    </tr>\n",
       "  </thead>\n",
       "  <tbody>\n",
       "    <tr>\n",
       "      <th>1</th>\n",
       "      <td>-0.220875</td>\n",
       "      <td>-0.207142</td>\n",
       "      <td>0.701291</td>\n",
       "      <td>0.02618</td>\n",
       "      <td>-0.225716</td>\n",
       "      <td>0.651479</td>\n",
       "      <td>-0.517200</td>\n",
       "      <td>1.050994</td>\n",
       "      <td>0.878668</td>\n",
       "      <td>0.514104</td>\n",
       "      <td>...</td>\n",
       "      <td>False</td>\n",
       "      <td>False</td>\n",
       "      <td>False</td>\n",
       "      <td>False</td>\n",
       "      <td>False</td>\n",
       "      <td>False</td>\n",
       "      <td>False</td>\n",
       "      <td>False</td>\n",
       "      <td>False</td>\n",
       "      <td>-0.008372</td>\n",
       "    </tr>\n",
       "    <tr>\n",
       "      <th>2</th>\n",
       "      <td>0.460320</td>\n",
       "      <td>-0.091886</td>\n",
       "      <td>0.701291</td>\n",
       "      <td>0.02618</td>\n",
       "      <td>-0.225716</td>\n",
       "      <td>-0.071836</td>\n",
       "      <td>2.179628</td>\n",
       "      <td>0.156734</td>\n",
       "      <td>-0.429577</td>\n",
       "      <td>-0.570750</td>\n",
       "      <td>...</td>\n",
       "      <td>False</td>\n",
       "      <td>False</td>\n",
       "      <td>False</td>\n",
       "      <td>False</td>\n",
       "      <td>False</td>\n",
       "      <td>False</td>\n",
       "      <td>False</td>\n",
       "      <td>False</td>\n",
       "      <td>False</td>\n",
       "      <td>-0.059386</td>\n",
       "    </tr>\n",
       "    <tr>\n",
       "      <th>3</th>\n",
       "      <td>-0.084636</td>\n",
       "      <td>0.073480</td>\n",
       "      <td>-1.016637</td>\n",
       "      <td>0.02618</td>\n",
       "      <td>-0.225716</td>\n",
       "      <td>0.651479</td>\n",
       "      <td>-0.517200</td>\n",
       "      <td>0.984752</td>\n",
       "      <td>0.830215</td>\n",
       "      <td>0.325915</td>\n",
       "      <td>...</td>\n",
       "      <td>False</td>\n",
       "      <td>False</td>\n",
       "      <td>False</td>\n",
       "      <td>False</td>\n",
       "      <td>False</td>\n",
       "      <td>False</td>\n",
       "      <td>False</td>\n",
       "      <td>False</td>\n",
       "      <td>False</td>\n",
       "      <td>0.161672</td>\n",
       "    </tr>\n",
       "    <tr>\n",
       "      <th>4</th>\n",
       "      <td>-0.447940</td>\n",
       "      <td>-0.096897</td>\n",
       "      <td>-1.016637</td>\n",
       "      <td>0.02618</td>\n",
       "      <td>-0.225716</td>\n",
       "      <td>0.651479</td>\n",
       "      <td>-0.517200</td>\n",
       "      <td>-1.863632</td>\n",
       "      <td>-0.720298</td>\n",
       "      <td>-0.570750</td>\n",
       "      <td>...</td>\n",
       "      <td>True</td>\n",
       "      <td>False</td>\n",
       "      <td>False</td>\n",
       "      <td>False</td>\n",
       "      <td>False</td>\n",
       "      <td>False</td>\n",
       "      <td>False</td>\n",
       "      <td>False</td>\n",
       "      <td>False</td>\n",
       "      <td>-0.121330</td>\n",
       "    </tr>\n",
       "    <tr>\n",
       "      <th>5</th>\n",
       "      <td>0.641972</td>\n",
       "      <td>0.375148</td>\n",
       "      <td>-1.016637</td>\n",
       "      <td>0.02618</td>\n",
       "      <td>-0.225716</td>\n",
       "      <td>1.374795</td>\n",
       "      <td>-0.517200</td>\n",
       "      <td>0.951632</td>\n",
       "      <td>0.733308</td>\n",
       "      <td>1.366489</td>\n",
       "      <td>...</td>\n",
       "      <td>False</td>\n",
       "      <td>False</td>\n",
       "      <td>False</td>\n",
       "      <td>False</td>\n",
       "      <td>False</td>\n",
       "      <td>False</td>\n",
       "      <td>False</td>\n",
       "      <td>False</td>\n",
       "      <td>False</td>\n",
       "      <td>0.935372</td>\n",
       "    </tr>\n",
       "  </tbody>\n",
       "</table>\n",
       "<p>5 rows × 205 columns</p>\n",
       "</div>"
      ],
      "text/plain": [
       "    LotFrontage   LotArea  LotShape  Utilities  LandSlope  OverallQual  \\\n",
       "Id                                                                       \n",
       "1     -0.220875 -0.207142  0.701291    0.02618  -0.225716     0.651479   \n",
       "2      0.460320 -0.091886  0.701291    0.02618  -0.225716    -0.071836   \n",
       "3     -0.084636  0.073480 -1.016637    0.02618  -0.225716     0.651479   \n",
       "4     -0.447940 -0.096897 -1.016637    0.02618  -0.225716     0.651479   \n",
       "5      0.641972  0.375148 -1.016637    0.02618  -0.225716     1.374795   \n",
       "\n",
       "    OverallCond  YearBuilt  YearRemodAdd  MasVnrArea  ...  MSSubClass_70  \\\n",
       "Id                                                    ...                  \n",
       "1     -0.517200   1.050994      0.878668    0.514104  ...          False   \n",
       "2      2.179628   0.156734     -0.429577   -0.570750  ...          False   \n",
       "3     -0.517200   0.984752      0.830215    0.325915  ...          False   \n",
       "4     -0.517200  -1.863632     -0.720298   -0.570750  ...           True   \n",
       "5     -0.517200   0.951632      0.733308    1.366489  ...          False   \n",
       "\n",
       "    MSSubClass_75  MSSubClass_80  MSSubClass_85  MSSubClass_90  \\\n",
       "Id                                                               \n",
       "1           False          False          False          False   \n",
       "2           False          False          False          False   \n",
       "3           False          False          False          False   \n",
       "4           False          False          False          False   \n",
       "5           False          False          False          False   \n",
       "\n",
       "    MSSubClass_120  MSSubClass_160  MSSubClass_180  MSSubClass_190  TotalArea  \n",
       "Id                                                                             \n",
       "1            False           False           False           False  -0.008372  \n",
       "2            False           False           False           False  -0.059386  \n",
       "3            False           False           False           False   0.161672  \n",
       "4            False           False           False           False  -0.121330  \n",
       "5            False           False           False           False   0.935372  \n",
       "\n",
       "[5 rows x 205 columns]"
      ]
     },
     "execution_count": 26,
     "metadata": {},
     "output_type": "execute_result"
    }
   ],
   "source": [
    "# Pencatatan histori\n",
    "log_step(df, output_path, \"normalisasi\", \"Melakukan normalisasi data kecuali data one-hot encode\")\n",
    "df.head()"
   ]
  },
  {
   "cell_type": "code",
   "execution_count": 27,
   "id": "969d44ad",
   "metadata": {
    "execution": {
     "iopub.execute_input": "2025-10-19T11:15:26.334327Z",
     "iopub.status.busy": "2025-10-19T11:15:26.333622Z",
     "iopub.status.idle": "2025-10-19T11:15:31.459067Z",
     "shell.execute_reply": "2025-10-19T11:15:31.458263Z"
    },
    "papermill": {
     "duration": 5.13939,
     "end_time": "2025-10-19T11:15:31.460663",
     "exception": false,
     "start_time": "2025-10-19T11:15:26.321273",
     "status": "completed"
    },
    "tags": []
   },
   "outputs": [],
   "source": [
    "output_path = \"data_cleaned.xlsx\"\n",
    "log_step(df, output_path, \"Sheet 1\", \"\")"
   ]
  },
  {
   "cell_type": "code",
   "execution_count": 28,
   "id": "73fa47e3",
   "metadata": {
    "execution": {
     "iopub.execute_input": "2025-10-19T11:15:31.483904Z",
     "iopub.status.busy": "2025-10-19T11:15:31.483633Z",
     "iopub.status.idle": "2025-10-19T11:15:31.707025Z",
     "shell.execute_reply": "2025-10-19T11:15:31.706091Z"
    },
    "papermill": {
     "duration": 0.236566,
     "end_time": "2025-10-19T11:15:31.708693",
     "exception": false,
     "start_time": "2025-10-19T11:15:31.472127",
     "status": "completed"
    },
    "tags": []
   },
   "outputs": [],
   "source": [
    "df.to_csv('data_cleaned.csv', index=False, sep=',', encoding='utf-8')"
   ]
  },
  {
   "cell_type": "markdown",
   "id": "29932891",
   "metadata": {
    "papermill": {
     "duration": 0.010705,
     "end_time": "2025-10-19T11:15:31.730530",
     "exception": false,
     "start_time": "2025-10-19T11:15:31.719825",
     "status": "completed"
    },
    "tags": []
   },
   "source": [
    "# Clustering"
   ]
  },
  {
   "cell_type": "code",
   "execution_count": 29,
   "id": "fe58bb92",
   "metadata": {
    "execution": {
     "iopub.execute_input": "2025-10-19T11:15:31.754139Z",
     "iopub.status.busy": "2025-10-19T11:15:31.753393Z",
     "iopub.status.idle": "2025-10-19T11:15:31.761106Z",
     "shell.execute_reply": "2025-10-19T11:15:31.760377Z"
    },
    "papermill": {
     "duration": 0.021014,
     "end_time": "2025-10-19T11:15:31.762572",
     "exception": false,
     "start_time": "2025-10-19T11:15:31.741558",
     "status": "completed"
    },
    "tags": []
   },
   "outputs": [],
   "source": [
    "features = [\n",
    "    'OverallQual', 'OverallCond', 'YearBuilt', 'GrLivArea',\n",
    "    'FullBath', 'BedroomAbvGr', 'KitchenAbvGr', 'KitchenQual',\n",
    "    'TotalBsmtSF', 'GarageArea', 'TotRmsAbvGrd'\n",
    "]\n",
    "\n",
    "selected_prefixes = tuple(features)\n",
    "\n",
    "selected_columns = [\n",
    "    col for col in df.columns \n",
    "    if any(col == f or col.startswith(f + '_') for f in features)\n",
    "]\n",
    "\n",
    "# subset dataframe\n",
    "X_processed = df[features]"
   ]
  },
  {
   "cell_type": "markdown",
   "id": "66e207de",
   "metadata": {
    "papermill": {
     "duration": 0.010676,
     "end_time": "2025-10-19T11:15:31.784772",
     "exception": false,
     "start_time": "2025-10-19T11:15:31.774096",
     "status": "completed"
    },
    "tags": []
   },
   "source": [
    "## K-means"
   ]
  },
  {
   "cell_type": "code",
   "execution_count": 30,
   "id": "ced89e93",
   "metadata": {
    "execution": {
     "iopub.execute_input": "2025-10-19T11:15:31.807865Z",
     "iopub.status.busy": "2025-10-19T11:15:31.807569Z",
     "iopub.status.idle": "2025-10-19T11:15:32.713564Z",
     "shell.execute_reply": "2025-10-19T11:15:32.712464Z"
    },
    "papermill": {
     "duration": 0.91956,
     "end_time": "2025-10-19T11:15:32.715205",
     "exception": false,
     "start_time": "2025-10-19T11:15:31.795645",
     "status": "completed"
    },
    "tags": []
   },
   "outputs": [
    {
     "data": {
      "image/png": "[encoded data removed]",
      "text/plain": [
       "<Figure size 800x500 with 1 Axes>"
      ]
     },
     "metadata": {},
     "output_type": "display_data"
    }
   ],
   "source": [
    "# Menentukan jumlah cluster optimal dengan Elbow Method\n",
    "inertia = []\n",
    "for i in range(2, 11):\n",
    "    kmeans = KMeans(n_clusters=i, random_state=42, n_init=10)\n",
    "    kmeans.fit(X_processed)\n",
    "    inertia.append(kmeans.inertia_)\n",
    "\n",
    "# Membuat plot Elbow Method\n",
    "plt.figure(figsize=(8, 5))\n",
    "plt.plot(range(2, 11), inertia, marker='o', color='b')\n",
    "plt.title('Elbow Method untuk Menentukan K Optimal')\n",
    "plt.xlabel('Jumlah Cluster (k)')\n",
    "plt.ylabel('Inersia')\n",
    "plt.grid(True)\n",
    "plt.show()\n",
    "plt.close()"
   ]
  },
  {
   "cell_type": "code",
   "execution_count": 31,
   "id": "1ce6825c",
   "metadata": {
    "execution": {
     "iopub.execute_input": "2025-10-19T11:15:32.740481Z",
     "iopub.status.busy": "2025-10-19T11:15:32.740088Z",
     "iopub.status.idle": "2025-10-19T11:15:32.838094Z",
     "shell.execute_reply": "2025-10-19T11:15:32.837076Z"
    },
    "papermill": {
     "duration": 0.112285,
     "end_time": "2025-10-19T11:15:32.839704",
     "exception": false,
     "start_time": "2025-10-19T11:15:32.727419",
     "status": "completed"
    },
    "tags": []
   },
   "outputs": [],
   "source": [
    "# Berdasarkan plot elbow, kita pilih k=4 sebagai titik siku\n",
    "k_optimal = 3\n",
    "kmeans = KMeans(n_clusters=k_optimal, random_state=42, n_init=10)\n",
    "kmeans_labels = kmeans.fit_predict(X_processed)\n",
    "\n",
    "# Menghitung Silhouette Score untuk K-Means\n",
    "kmeans_silhouette = silhouette_score(X_processed, kmeans_labels)\n",
    "\n",
    "# Menghitung Davies Bouldin Score untuk DBSCAN\n",
    "kmeans_davies_bouldin = davies_bouldin_score(X_processed, kmeans_labels)"
   ]
  },
  {
   "cell_type": "markdown",
   "id": "22e6d9d4",
   "metadata": {
    "papermill": {
     "duration": 0.010679,
     "end_time": "2025-10-19T11:15:32.862271",
     "exception": false,
     "start_time": "2025-10-19T11:15:32.851592",
     "status": "completed"
    },
    "tags": []
   },
   "source": [
    "## DBSCAN"
   ]
  },
  {
   "cell_type": "code",
   "execution_count": 32,
   "id": "972bdb72",
   "metadata": {
    "execution": {
     "iopub.execute_input": "2025-10-19T11:15:32.885949Z",
     "iopub.status.busy": "2025-10-19T11:15:32.885657Z",
     "iopub.status.idle": "2025-10-19T11:15:33.029128Z",
     "shell.execute_reply": "2025-10-19T11:15:33.028113Z"
    },
    "papermill": {
     "duration": 0.157682,
     "end_time": "2025-10-19T11:15:33.030854",
     "exception": false,
     "start_time": "2025-10-19T11:15:32.873172",
     "status": "completed"
    },
    "tags": []
   },
   "outputs": [],
   "source": [
    "dbscan = DBSCAN(eps=6, min_samples=10)\n",
    "dbscan_labels = dbscan.fit_predict(X_processed)\n",
    "\n",
    "# Menghitung Silhouette Score untuk DBSCAN\n",
    "if len(set(dbscan_labels)) > 1:\n",
    "    dbscan_silhouette = silhouette_score(X_processed, dbscan_labels)\n",
    "else:\n",
    "    dbscan_silhouette = -1\n",
    "\n",
    "# Menghitung Davies Bouldin Score untuk DBSCAN\n",
    "dbscan_davies_bouldin = davies_bouldin_score(X_processed, dbscan_labels)"
   ]
  },
  {
   "cell_type": "markdown",
   "id": "3ed747e0",
   "metadata": {
    "papermill": {
     "duration": 0.012784,
     "end_time": "2025-10-19T11:15:33.058759",
     "exception": false,
     "start_time": "2025-10-19T11:15:33.045975",
     "status": "completed"
    },
    "tags": []
   },
   "source": [
    "## Evaluasi"
   ]
  },
  {
   "cell_type": "code",
   "execution_count": 33,
   "id": "9e757c65",
   "metadata": {
    "execution": {
     "iopub.execute_input": "2025-10-19T11:15:33.084035Z",
     "iopub.status.busy": "2025-10-19T11:15:33.083692Z",
     "iopub.status.idle": "2025-10-19T11:15:33.089479Z",
     "shell.execute_reply": "2025-10-19T11:15:33.088465Z"
    },
    "papermill": {
     "duration": 0.020262,
     "end_time": "2025-10-19T11:15:33.090916",
     "exception": false,
     "start_time": "2025-10-19T11:15:33.070654",
     "status": "completed"
    },
    "tags": []
   },
   "outputs": [
    {
     "name": "stdout",
     "output_type": "stream",
     "text": [
      "Silhouette Score K-Means (k=3): 0.2986\n",
      "Silhouette Score DBSCAN: 0.7217\n",
      "\n",
      "Berdasarkan Silhouette Score, DBSCAN memberikan hasil clustering yang lebih baik.\n"
     ]
    }
   ],
   "source": [
    "# --- Menampilkan Hasil Perbandingan ---\n",
    "print(f\"Silhouette Score K-Means (k={k_optimal}): {kmeans_silhouette:.4f}\")\n",
    "print(f\"Silhouette Score DBSCAN: {dbscan_silhouette:.4f}\")\n",
    "\n",
    "if kmeans_silhouette > dbscan_silhouette:\n",
    "    print(\"\\nBerdasarkan Silhouette Score, K-Means memberikan hasil clustering yang lebih baik.\")\n",
    "else:\n",
    "    print(\"\\nBerdasarkan Silhouette Score, DBSCAN memberikan hasil clustering yang lebih baik.\")"
   ]
  },
  {
   "cell_type": "code",
   "execution_count": 34,
   "id": "cc236ef5",
   "metadata": {
    "execution": {
     "iopub.execute_input": "2025-10-19T11:15:33.115647Z",
     "iopub.status.busy": "2025-10-19T11:15:33.115300Z",
     "iopub.status.idle": "2025-10-19T11:15:33.120860Z",
     "shell.execute_reply": "2025-10-19T11:15:33.119829Z"
    },
    "papermill": {
     "duration": 0.01966,
     "end_time": "2025-10-19T11:15:33.122302",
     "exception": false,
     "start_time": "2025-10-19T11:15:33.102642",
     "status": "completed"
    },
    "tags": []
   },
   "outputs": [
    {
     "name": "stdout",
     "output_type": "stream",
     "text": [
      "Davies Bouldin Score K-Means (k=3): 1.2112\n",
      "Davies Bouldin Score DBSCAN: 0.1962\n",
      "\n",
      "Berdasarkan Davies Bouldin Score, DBSCAN memberikan hasil clustering yang lebih baik.\n"
     ]
    }
   ],
   "source": [
    "# --- Menampilkan Hasil Perbandingan ---\n",
    "print(f\"Davies Bouldin Score K-Means (k={k_optimal}): {kmeans_davies_bouldin:.4f}\")\n",
    "print(f\"Davies Bouldin Score DBSCAN: {dbscan_davies_bouldin:.4f}\")\n",
    "\n",
    "if kmeans_davies_bouldin < dbscan_davies_bouldin:\n",
    "    print(\"\\nBerdasarkan Davies Bouldin Score, K-Means memberikan hasil clustering yang lebih baik.\")\n",
    "else:\n",
    "    print(\"\\nBerdasarkan Davies Bouldin Score, DBSCAN memberikan hasil clustering yang lebih baik.\")"
   ]
  },
  {
   "cell_type": "markdown",
   "id": "8d187948",
   "metadata": {
    "papermill": {
     "duration": 0.011837,
     "end_time": "2025-10-19T11:15:33.146442",
     "exception": false,
     "start_time": "2025-10-19T11:15:33.134605",
     "status": "completed"
    },
    "tags": []
   },
   "source": [
    "## Visualisasi Clustering"
   ]
  },
  {
   "cell_type": "code",
   "execution_count": 35,
   "id": "3b1ca470",
   "metadata": {
    "execution": {
     "iopub.execute_input": "2025-10-19T11:15:33.171553Z",
     "iopub.status.busy": "2025-10-19T11:15:33.171229Z",
     "iopub.status.idle": "2025-10-19T11:15:33.208202Z",
     "shell.execute_reply": "2025-10-19T11:15:33.207445Z"
    },
    "papermill": {
     "duration": 0.05183,
     "end_time": "2025-10-19T11:15:33.210204",
     "exception": false,
     "start_time": "2025-10-19T11:15:33.158374",
     "status": "completed"
    },
    "tags": []
   },
   "outputs": [],
   "source": [
    "# Menggunakan PCA untuk mereduksi data menjadi 2 dimensi\n",
    "pca = PCA(n_components=2)\n",
    "X_pca = pca.fit_transform(X_processed)\n",
    "\n",
    "# Membuat DataFrame baru untuk hasil visualisasi\n",
    "df_results = pd.DataFrame(X_pca, columns=['PCA1', 'PCA2'])\n",
    "df_results['kmeans_cluster'] = kmeans_labels\n",
    "df_results['dbscan_cluster'] = dbscan_labels"
   ]
  },
  {
   "cell_type": "code",
   "execution_count": 36,
   "id": "2fecccf1",
   "metadata": {
    "execution": {
     "iopub.execute_input": "2025-10-19T11:15:33.251760Z",
     "iopub.status.busy": "2025-10-19T11:15:33.251111Z",
     "iopub.status.idle": "2025-10-19T11:15:33.258648Z",
     "shell.execute_reply": "2025-10-19T11:15:33.257885Z"
    },
    "papermill": {
     "duration": 0.030016,
     "end_time": "2025-10-19T11:15:33.260282",
     "exception": false,
     "start_time": "2025-10-19T11:15:33.230266",
     "status": "completed"
    },
    "tags": []
   },
   "outputs": [
    {
     "name": "stdout",
     "output_type": "stream",
     "text": [
      "                   PC1       PC2\n",
      "OverallQual   0.394256 -0.182398\n",
      "OverallCond  -0.110123  0.115459\n",
      "YearBuilt     0.290241 -0.369584\n",
      "GrLivArea     0.390963  0.271652\n",
      "FullBath      0.365814  0.115612\n",
      "BedroomAbvGr  0.179092  0.521953\n",
      "KitchenAbvGr -0.001336  0.392926\n",
      "KitchenQual   0.332144 -0.255352\n",
      "TotalBsmtSF   0.307647 -0.165902\n",
      "GarageArea    0.335122 -0.168504\n",
      "TotRmsAbvGrd  0.334924  0.426263\n"
     ]
    }
   ],
   "source": [
    "loadings = pd.DataFrame(\n",
    "    pca.components_.T,\n",
    "    columns=['PC1', 'PC2'],\n",
    "    index=features\n",
    ")\n",
    "print(loadings)"
   ]
  },
  {
   "cell_type": "code",
   "execution_count": 37,
   "id": "aec2e1a5",
   "metadata": {
    "execution": {
     "iopub.execute_input": "2025-10-19T11:15:33.302258Z",
     "iopub.status.busy": "2025-10-19T11:15:33.301340Z",
     "iopub.status.idle": "2025-10-19T11:15:33.622485Z",
     "shell.execute_reply": "2025-10-19T11:15:33.621668Z"
    },
    "papermill": {
     "duration": 0.344772,
     "end_time": "2025-10-19T11:15:33.625078",
     "exception": false,
     "start_time": "2025-10-19T11:15:33.280306",
     "status": "completed"
    },
    "tags": []
   },
   "outputs": [
    {
     "data": {
      "image/png": "[encoded data removed]",
      "text/plain": [
       "<Figure size 1000x600 with 2 Axes>"
      ]
     },
     "metadata": {},
     "output_type": "display_data"
    }
   ],
   "source": [
    "# Visualisasi K-Means\n",
    "plt.figure(figsize=(10, 6))\n",
    "plt.scatter(df_results['PCA1'], df_results['PCA2'], c=df_results['kmeans_cluster'], cmap='viridis', marker='o', s=50)\n",
    "plt.title(f'Hasil Clustering K-Means (k={k_optimal}) dengan PCA')\n",
    "plt.xlabel('Komponen Utama 1')\n",
    "plt.ylabel('Komponen Utama 2')\n",
    "plt.colorbar(label='Cluster')\n",
    "plt.grid(True)\n",
    "plt.show()\n",
    "plt.close()"
   ]
  },
  {
   "cell_type": "code",
   "execution_count": 38,
   "id": "fb6be05e",
   "metadata": {
    "execution": {
     "iopub.execute_input": "2025-10-19T11:15:33.654426Z",
     "iopub.status.busy": "2025-10-19T11:15:33.654120Z",
     "iopub.status.idle": "2025-10-19T11:15:33.919349Z",
     "shell.execute_reply": "2025-10-19T11:15:33.918493Z"
    },
    "papermill": {
     "duration": 0.281876,
     "end_time": "2025-10-19T11:15:33.921332",
     "exception": false,
     "start_time": "2025-10-19T11:15:33.639456",
     "status": "completed"
    },
    "tags": []
   },
   "outputs": [
    {
     "data": {
      "image/png": "[encoded data removed]",
      "text/plain": [
       "<Figure size 1000x600 with 1 Axes>"
      ]
     },
     "metadata": {},
     "output_type": "display_data"
    }
   ],
   "source": [
    "# Visualisasi DBSCAN\n",
    "plt.figure(figsize=(10, 6))\n",
    "noise_mask = df_results['dbscan_cluster'] == -1\n",
    "# Plot titik-titik yang bukan noise\n",
    "plt.scatter(df_results.loc[~noise_mask, 'PCA1'], df_results.loc[~noise_mask, 'PCA2'], c=df_results.loc[~noise_mask, 'dbscan_cluster'], cmap='viridis', marker='o', s=50, label='Clusters')\n",
    "# Plot titik-titik noise\n",
    "plt.scatter(df_results.loc[noise_mask, 'PCA1'], df_results.loc[noise_mask, 'PCA2'], c='black', marker='x', s=50, label='Noise')\n",
    "plt.title('Hasil Clustering DBSCAN dengan PCA')\n",
    "plt.xlabel('Komponen Utama 1')\n",
    "plt.ylabel('Komponen Utama 2')\n",
    "plt.legend()\n",
    "plt.grid(True)\n",
    "plt.show()\n",
    "plt.close()"
   ]
  },
  {
   "cell_type": "markdown",
   "id": "a2f2565b",
   "metadata": {
    "papermill": {
     "duration": 0.015543,
     "end_time": "2025-10-19T11:15:33.952851",
     "exception": false,
     "start_time": "2025-10-19T11:15:33.937308",
     "status": "completed"
    },
    "tags": []
   },
   "source": [
    "# Annoy"
   ]
  },
  {
   "cell_type": "code",
   "execution_count": 39,
   "id": "d7a8466c",
   "metadata": {
    "execution": {
     "iopub.execute_input": "2025-10-19T11:15:33.986982Z",
     "iopub.status.busy": "2025-10-19T11:15:33.985884Z",
     "iopub.status.idle": "2025-10-19T11:15:34.014027Z",
     "shell.execute_reply": "2025-10-19T11:15:34.012814Z"
    },
    "papermill": {
     "duration": 0.046677,
     "end_time": "2025-10-19T11:15:34.015673",
     "exception": false,
     "start_time": "2025-10-19T11:15:33.968996",
     "status": "completed"
    },
    "tags": []
   },
   "outputs": [
    {
     "name": "stdout",
     "output_type": "stream",
     "text": [
      "Query Point Index: 42\n",
      "Cluster (KMeans) Query Point: 1\n",
      "Waktu pencarian Annoy: 0.1256 ms\n",
      "\n",
      "Nearest Neighbors and Distances:\n",
      "Neighbor Index: 42 | Distance: 0.0000 | Cluster (KMeans): 1\n",
      "Neighbor Index: 376 | Distance: 0.0405 | Cluster (KMeans): 1\n",
      "Neighbor Index: 880 | Distance: 0.1575 | Cluster (KMeans): 1\n",
      "Neighbor Index: 1452 | Distance: 0.1588 | Cluster (KMeans): 1\n",
      "Neighbor Index: 954 | Distance: 0.1640 | Cluster (KMeans): 1\n"
     ]
    }
   ],
   "source": [
    "from annoy import AnnoyIndex\n",
    "import time\n",
    "\n",
    "X = X_pca.astype('float32')\n",
    "f = X.shape[1]\n",
    "\n",
    "t = AnnoyIndex(f, 'euclidean')\n",
    "\n",
    "for i, vec in enumerate(X):\n",
    "    t.add_item(i, vec)\n",
    "\n",
    "t.build(10)\n",
    "\n",
    "query_idx = 42\n",
    "query = X[query_idx]\n",
    "\n",
    "start = time.time()\n",
    "neighbors = t.get_nns_by_vector(query, 5)  # ambil 5 tetangga terdekat\n",
    "time_annoy = (time.time() - start) * 1000  # dalam ms\n",
    "\n",
    "# --- Hitung jarak aktual untuk tiap tetangga ---\n",
    "distances = [np.linalg.norm(X[n] - query) for n in neighbors]\n",
    "\n",
    "# --- Cetak hasil ---\n",
    "print(f\"Query Point Index: {query_idx}\")\n",
    "print(f\"Cluster (KMeans) Query Point: {kmeans_labels[query_idx]}\")\n",
    "print(f\"Waktu pencarian Annoy: {time_annoy:.4f} ms\\n\")\n",
    "\n",
    "print(\"Nearest Neighbors and Distances:\")\n",
    "for n, d in zip(neighbors, distances):\n",
    "    print(f\"Neighbor Index: {n} | Distance: {d:.4f} | Cluster (KMeans): {kmeans_labels[n]}\")"
   ]
  },
  {
   "cell_type": "code",
   "execution_count": 40,
   "id": "3633bb1f",
   "metadata": {
    "execution": {
     "iopub.execute_input": "2025-10-19T11:15:34.048144Z",
     "iopub.status.busy": "2025-10-19T11:15:34.047807Z",
     "iopub.status.idle": "2025-10-19T11:15:34.286522Z",
     "shell.execute_reply": "2025-10-19T11:15:34.285651Z"
    },
    "papermill": {
     "duration": 0.256333,
     "end_time": "2025-10-19T11:15:34.287924",
     "exception": false,
     "start_time": "2025-10-19T11:15:34.031591",
     "status": "completed"
    },
    "tags": []
   },
   "outputs": [
    {
     "data": {
      "image/png": "[encoded data removed]",
      "text/plain": [
       "<Figure size 600x600 with 1 Axes>"
      ]
     },
     "metadata": {},
     "output_type": "display_data"
    }
   ],
   "source": [
    "# Visualisasi hasil\n",
    "plt.figure(figsize=(6,6))\n",
    "plt.scatter(X[:,0], X[:,1], c=\"lightgray\", s=20, label=\"Dataset\")\n",
    "plt.scatter(query[0], query[1], c=\"red\", marker=\"x\", s=100, label=\"Query\")\n",
    "\n",
    "# Annoy NN ditandai hijau\n",
    "plt.scatter(X[neighbors,0], X[neighbors,1], c=\"green\", s=50, marker=\"s\", label=\"Annoy NN\")\n",
    "\n",
    "plt.legend()\n",
    "plt.title(\"Annoy NN (10 trees)\")\n",
    "plt.grid(True)\n",
    "plt.show()"
   ]
  },
  {
   "cell_type": "markdown",
   "id": "86d7ded4",
   "metadata": {
    "papermill": {
     "duration": 0.015811,
     "end_time": "2025-10-19T11:15:34.320113",
     "exception": false,
     "start_time": "2025-10-19T11:15:34.304302",
     "status": "completed"
    },
    "tags": []
   },
   "source": [
    "# Kesimpulan"
   ]
  },
  {
   "cell_type": "markdown",
   "id": "78a2b85e",
   "metadata": {
    "papermill": {
     "duration": 0.015726,
     "end_time": "2025-10-19T11:15:34.351998",
     "exception": false,
     "start_time": "2025-10-19T11:15:34.336272",
     "status": "completed"
    },
    "tags": []
   },
   "source": [
    "1. Untuk dataset house prices dengan mempertimbangkan fitur-fitur untuk melihat rumah dengan karakteristik yang mirip atau hampir sama, dapat disimpulkan bahwa penggunaan metode DBSCAN dalam clustering tampak lebih baik dari kedua scoring; shilouette dan davies bouldin.\n",
    "2. Dapat dilihat bahwa metode DBSCAN memiliki skor metrik terbaik baik pada silhouette atau davies bouldin\n",
    "\n",
    "Silhouette Score K-Means (k=3): 0.2986\n",
    "\n",
    "Silhouette Score DBSCAN: 0.7217\n",
    "\n",
    "Davies Bouldin Score K-Means (k=3): 1.2112\n",
    "\n",
    "Davies Bouldin Score DBSCAN: 0.1962\n",
    "\n",
    "3. Hasil query annoy menunjukkan bahwa neighbor berada dalam kluster yang sama karena pembagian ruang berdasarkan metode jarak euclidean menghasilkan grup lokal yang konsisten"
   ]
  }
 ],
 "metadata": {
  "kaggle": {
   "accelerator": "none",
   "dataSources": [
    {
     "databundleVersionId": 868283,
     "sourceId": 5407,
     "sourceType": "competition"
    }
   ],
   "dockerImageVersionId": 31153,
   "isGpuEnabled": false,
   "isInternetEnabled": false,
   "language": "python",
   "sourceType": "notebook"
  },
  "kernelspec": {
   "display_name": "Python 3",
   "language": "python",
   "name": "python3"
  },
  "language_info": {
   "codemirror_mode": {
    "name": "ipython",
    "version": 3
   },
   "file_extension": ".py",
   "mimetype": "text/x-python",
   "name": "python",
   "nbconvert_exporter": "python",
   "pygments_lexer": "ipython3",
   "version": "3.11.13"
  },
  "papermill": {
   "default_parameters": {},
   "duration": 130.438344,
   "end_time": "2025-10-19T11:15:35.289220",
   "environment_variables": {},
   "exception": null,
   "input_path": "__notebook__.ipynb",
   "output_path": "__notebook__.ipynb",
   "parameters": {},
   "start_time": "2025-10-19T11:13:24.850876",
   "version": "2.6.0"
  }
 },
 "nbformat": 4,
 "nbformat_minor": 5
}
